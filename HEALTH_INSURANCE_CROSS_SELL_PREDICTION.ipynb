{
  "nbformat": 4,
  "nbformat_minor": 0,
  "metadata": {
    "colab": {
      "name": " HEALTH INSURANCE CROSS SELL PREDICTION.ipynb",
      "provenance": [],
      "collapsed_sections": [],
      "include_colab_link": true
    },
    "kernelspec": {
      "display_name": "Python 3",
      "name": "python3"
    },
    "language_info": {
      "name": "python"
    }
  },
  "cells": [
    {
      "cell_type": "markdown",
      "metadata": {
        "id": "view-in-github",
        "colab_type": "text"
      },
      "source": [
        "<a href=\"https://colab.research.google.com/github/Dayanand07/Health-Insurance-Cross-Sell-Prediction/blob/main/HEALTH_INSURANCE_CROSS_SELL_PREDICTION.ipynb\" target=\"_parent\"><img src=\"https://colab.research.google.com/assets/colab-badge.svg\" alt=\"Open In Colab\"/></a>"
      ]
    },
    {
      "cell_type": "markdown",
      "metadata": {
        "id": "LGcl5Bv9ed6u"
      },
      "source": [
        "# **Problem Statement**"
      ]
    },
    {
      "cell_type": "markdown",
      "metadata": {
        "id": "jJAmGx75jJk1"
      },
      "source": [
        "Our client is an Insurance company that has provided Health Insurance to its customers now they need your help in building a model to predict whether the policyholders (customers) from past year will also be interested in Vehicle Insurance provided by the company.\n",
        "\n",
        "An insurance policy is an arrangement by which a company undertakes to provide a guarantee of compensation for specified loss, damage, illness, or death in return for the payment of a specified premium. A premium is a sum of money that the customer needs to pay regularly to an insurance company for this guarantee.\n",
        "\n",
        "For example, you may pay a premium of Rs. 5000 each year for a health insurance cover of Rs. 200,000/- so that if, God forbid, you fall ill and need to be hospitalised in that year, the insurance provider company will bear the cost of hospitalisation etc. for upto Rs. 200,000. Now if you are wondering how can company bear such high hospitalisation cost when it charges a premium of only Rs. 5000/-, that is where the concept of probabilities comes in picture. For example, like you, there may be 100 customers who would be paying a premium of Rs. 5000 every year, but only a few of them (say 2-3) would get hospitalised that year and not everyone. This way everyone shares the risk of everyone else.\n",
        "\n",
        "Just like medical insurance, there is vehicle insurance where every year customer needs to pay a premium of certain amount to insurance provider company so that in case of unfortunate accident by the vehicle, the insurance provider company will provide a compensation (called ‘sum assured’) to the customer.\n",
        "\n",
        "Building a model to predict whether a customer would be interested in Vehicle Insurance is extremely helpful for the company because it can then accordingly plan its communication strategy to reach out to those customers and optimise its business model and revenue.\n",
        "\n",
        "Now, in order to predict, whether the customer would be interested in Vehicle insurance, you have information about demographics (gender, age, region code type), Vehicles (Vehicle Age, Damage), Policy (Premium, sourcing channel) etc."
      ]
    },
    {
      "cell_type": "markdown",
      "metadata": {
        "id": "AzGDqdC4fZ-b"
      },
      "source": [
        "# **Attribute Information**"
      ]
    },
    {
      "cell_type": "markdown",
      "metadata": {
        "id": "oEJxl68MjYbs"
      },
      "source": [
        "1. id :\tUnique ID for the customer\n",
        "\n",
        "2. Gender\t: Gender of the customer\n",
        "\n",
        "3. Age :\tAge of the customer\n",
        "\n",
        "4. Driving_License\t0 : Customer does not have DL, 1 : Customer already has DL\n",
        "\n",
        "5. Region_Code :\tUnique code for the region of the customer\n",
        "\n",
        "6. Previously_Insured\t: 1 : Customer already has Vehicle Insurance, 0 : Customer doesn't have Vehicle Insurance\n",
        "\n",
        "7. Vehicle_Age :\tAge of the Vehicle\n",
        "\n",
        "8. Vehicle_Damage\t :1 : Customer got his/her vehicle damaged in the past. 0 : Customer didn't get his/her vehicle damaged in the past.\n",
        "\n",
        "9. Annual_Premium\t: The amount customer needs to pay as premium in the year\n",
        "\n",
        "10. PolicySalesChannel :\tAnonymized Code for the channel of outreaching to the customer ie. Different Agents, Over Mail, Over Phone, In Person, etc.\n",
        "\n",
        "11. Vintage :\tNumber of Days, Customer has been associated with the company\n",
        "\n",
        "12. Response :\t1 : Customer is interested, 0 : Customer is not interested"
      ]
    },
    {
      "cell_type": "markdown",
      "metadata": {
        "id": "_KwEVesf1hC_"
      },
      "source": [
        "1. **Prepare** **the** **problem**\n",
        "\n",
        "     Importing Required Libraries"
      ]
    },
    {
      "cell_type": "code",
      "metadata": {
        "id": "gbi_Jo2EK1n_"
      },
      "source": [
        "# import libraries\n",
        "import pandas  as pd\n",
        "import numpy as np\n",
        "import seaborn as sns\n",
        "import matplotlib.pyplot as plt\n",
        "from sklearn.preprocessing import LabelEncoder \n",
        "from sklearn.model_selection import train_test_split\n",
        "\n",
        "from imblearn.over_sampling import RandomOverSampler\n",
        "from collections import Counter\n",
        "from sklearn.preprocessing import StandardScaler\n",
        "from sklearn.linear_model import LogisticRegression\n",
        "from sklearn.metrics import precision_score,recall_score,accuracy_score,f1_score,confusion_matrix,roc_auc_score,classification_report\n",
        "from sklearn.ensemble import RandomForestClassifier\n",
        "from xgboost import XGBClassifier\n",
        "\n",
        "sns.set_theme(style=\"darkgrid\")"
      ],
      "execution_count": 1,
      "outputs": []
    },
    {
      "cell_type": "markdown",
      "metadata": {
        "id": "q7Tx6VBl2VlU"
      },
      "source": [
        "**Load** **Dataset**"
      ]
    },
    {
      "cell_type": "code",
      "metadata": {
        "colab": {
          "base_uri": "https://localhost:8080/"
        },
        "id": "xH-8k4sddg_V",
        "outputId": "07ce6ee6-9961-4b07-a731-cc86e9cd8c69"
      },
      "source": [
        "from google.colab import drive\n",
        "drive.mount('/content/drive')"
      ],
      "execution_count": 2,
      "outputs": [
        {
          "output_type": "stream",
          "name": "stdout",
          "text": [
            "Drive already mounted at /content/drive; to attempt to forcibly remount, call drive.mount(\"/content/drive\", force_remount=True).\n"
          ]
        }
      ]
    },
    {
      "cell_type": "code",
      "metadata": {
        "id": "7RpwdfUHdxfm"
      },
      "source": [
        "data=pd.read_csv('/content/drive/MyDrive/csv files/TRAIN-HEALTH INSURANCE CROSS SELL PREDICTION.csv')"
      ],
      "execution_count": 3,
      "outputs": []
    },
    {
      "cell_type": "markdown",
      "metadata": {
        "id": "Iq0w0eBV2fci"
      },
      "source": [
        "#**2**. **Summarize** **Data**"
      ]
    },
    {
      "cell_type": "code",
      "metadata": {
        "colab": {
          "base_uri": "https://localhost:8080/"
        },
        "id": "vF-QfxpKLhQf",
        "outputId": "ee089036-29e2-4184-9f77-ab81ed73c301"
      },
      "source": [
        "data.shape"
      ],
      "execution_count": 4,
      "outputs": [
        {
          "output_type": "execute_result",
          "data": {
            "text/plain": [
              "(381109, 12)"
            ]
          },
          "metadata": {},
          "execution_count": 4
        }
      ]
    },
    {
      "cell_type": "code",
      "metadata": {
        "colab": {
          "base_uri": "https://localhost:8080/",
          "height": 363
        },
        "id": "XS9CIYS2LjZT",
        "outputId": "274c07d2-7f85-4a0d-83ac-f63f6a5bedfa"
      },
      "source": [
        "data.head(10)"
      ],
      "execution_count": 5,
      "outputs": [
        {
          "output_type": "execute_result",
          "data": {
            "text/html": [
              "\n",
              "  <div id=\"df-aba66a78-13e4-434a-bff2-54d191d6db91\">\n",
              "    <div class=\"colab-df-container\">\n",
              "      <div>\n",
              "<style scoped>\n",
              "    .dataframe tbody tr th:only-of-type {\n",
              "        vertical-align: middle;\n",
              "    }\n",
              "\n",
              "    .dataframe tbody tr th {\n",
              "        vertical-align: top;\n",
              "    }\n",
              "\n",
              "    .dataframe thead th {\n",
              "        text-align: right;\n",
              "    }\n",
              "</style>\n",
              "<table border=\"1\" class=\"dataframe\">\n",
              "  <thead>\n",
              "    <tr style=\"text-align: right;\">\n",
              "      <th></th>\n",
              "      <th>id</th>\n",
              "      <th>Gender</th>\n",
              "      <th>Age</th>\n",
              "      <th>Driving_License</th>\n",
              "      <th>Region_Code</th>\n",
              "      <th>Previously_Insured</th>\n",
              "      <th>Vehicle_Age</th>\n",
              "      <th>Vehicle_Damage</th>\n",
              "      <th>Annual_Premium</th>\n",
              "      <th>Policy_Sales_Channel</th>\n",
              "      <th>Vintage</th>\n",
              "      <th>Response</th>\n",
              "    </tr>\n",
              "  </thead>\n",
              "  <tbody>\n",
              "    <tr>\n",
              "      <th>0</th>\n",
              "      <td>1</td>\n",
              "      <td>Male</td>\n",
              "      <td>44</td>\n",
              "      <td>1</td>\n",
              "      <td>28.0</td>\n",
              "      <td>0</td>\n",
              "      <td>&gt; 2 Years</td>\n",
              "      <td>Yes</td>\n",
              "      <td>40454.0</td>\n",
              "      <td>26.0</td>\n",
              "      <td>217</td>\n",
              "      <td>1</td>\n",
              "    </tr>\n",
              "    <tr>\n",
              "      <th>1</th>\n",
              "      <td>2</td>\n",
              "      <td>Male</td>\n",
              "      <td>76</td>\n",
              "      <td>1</td>\n",
              "      <td>3.0</td>\n",
              "      <td>0</td>\n",
              "      <td>1-2 Year</td>\n",
              "      <td>No</td>\n",
              "      <td>33536.0</td>\n",
              "      <td>26.0</td>\n",
              "      <td>183</td>\n",
              "      <td>0</td>\n",
              "    </tr>\n",
              "    <tr>\n",
              "      <th>2</th>\n",
              "      <td>3</td>\n",
              "      <td>Male</td>\n",
              "      <td>47</td>\n",
              "      <td>1</td>\n",
              "      <td>28.0</td>\n",
              "      <td>0</td>\n",
              "      <td>&gt; 2 Years</td>\n",
              "      <td>Yes</td>\n",
              "      <td>38294.0</td>\n",
              "      <td>26.0</td>\n",
              "      <td>27</td>\n",
              "      <td>1</td>\n",
              "    </tr>\n",
              "    <tr>\n",
              "      <th>3</th>\n",
              "      <td>4</td>\n",
              "      <td>Male</td>\n",
              "      <td>21</td>\n",
              "      <td>1</td>\n",
              "      <td>11.0</td>\n",
              "      <td>1</td>\n",
              "      <td>&lt; 1 Year</td>\n",
              "      <td>No</td>\n",
              "      <td>28619.0</td>\n",
              "      <td>152.0</td>\n",
              "      <td>203</td>\n",
              "      <td>0</td>\n",
              "    </tr>\n",
              "    <tr>\n",
              "      <th>4</th>\n",
              "      <td>5</td>\n",
              "      <td>Female</td>\n",
              "      <td>29</td>\n",
              "      <td>1</td>\n",
              "      <td>41.0</td>\n",
              "      <td>1</td>\n",
              "      <td>&lt; 1 Year</td>\n",
              "      <td>No</td>\n",
              "      <td>27496.0</td>\n",
              "      <td>152.0</td>\n",
              "      <td>39</td>\n",
              "      <td>0</td>\n",
              "    </tr>\n",
              "    <tr>\n",
              "      <th>5</th>\n",
              "      <td>6</td>\n",
              "      <td>Female</td>\n",
              "      <td>24</td>\n",
              "      <td>1</td>\n",
              "      <td>33.0</td>\n",
              "      <td>0</td>\n",
              "      <td>&lt; 1 Year</td>\n",
              "      <td>Yes</td>\n",
              "      <td>2630.0</td>\n",
              "      <td>160.0</td>\n",
              "      <td>176</td>\n",
              "      <td>0</td>\n",
              "    </tr>\n",
              "    <tr>\n",
              "      <th>6</th>\n",
              "      <td>7</td>\n",
              "      <td>Male</td>\n",
              "      <td>23</td>\n",
              "      <td>1</td>\n",
              "      <td>11.0</td>\n",
              "      <td>0</td>\n",
              "      <td>&lt; 1 Year</td>\n",
              "      <td>Yes</td>\n",
              "      <td>23367.0</td>\n",
              "      <td>152.0</td>\n",
              "      <td>249</td>\n",
              "      <td>0</td>\n",
              "    </tr>\n",
              "    <tr>\n",
              "      <th>7</th>\n",
              "      <td>8</td>\n",
              "      <td>Female</td>\n",
              "      <td>56</td>\n",
              "      <td>1</td>\n",
              "      <td>28.0</td>\n",
              "      <td>0</td>\n",
              "      <td>1-2 Year</td>\n",
              "      <td>Yes</td>\n",
              "      <td>32031.0</td>\n",
              "      <td>26.0</td>\n",
              "      <td>72</td>\n",
              "      <td>1</td>\n",
              "    </tr>\n",
              "    <tr>\n",
              "      <th>8</th>\n",
              "      <td>9</td>\n",
              "      <td>Female</td>\n",
              "      <td>24</td>\n",
              "      <td>1</td>\n",
              "      <td>3.0</td>\n",
              "      <td>1</td>\n",
              "      <td>&lt; 1 Year</td>\n",
              "      <td>No</td>\n",
              "      <td>27619.0</td>\n",
              "      <td>152.0</td>\n",
              "      <td>28</td>\n",
              "      <td>0</td>\n",
              "    </tr>\n",
              "    <tr>\n",
              "      <th>9</th>\n",
              "      <td>10</td>\n",
              "      <td>Female</td>\n",
              "      <td>32</td>\n",
              "      <td>1</td>\n",
              "      <td>6.0</td>\n",
              "      <td>1</td>\n",
              "      <td>&lt; 1 Year</td>\n",
              "      <td>No</td>\n",
              "      <td>28771.0</td>\n",
              "      <td>152.0</td>\n",
              "      <td>80</td>\n",
              "      <td>0</td>\n",
              "    </tr>\n",
              "  </tbody>\n",
              "</table>\n",
              "</div>\n",
              "      <button class=\"colab-df-convert\" onclick=\"convertToInteractive('df-aba66a78-13e4-434a-bff2-54d191d6db91')\"\n",
              "              title=\"Convert this dataframe to an interactive table.\"\n",
              "              style=\"display:none;\">\n",
              "        \n",
              "  <svg xmlns=\"http://www.w3.org/2000/svg\" height=\"24px\"viewBox=\"0 0 24 24\"\n",
              "       width=\"24px\">\n",
              "    <path d=\"M0 0h24v24H0V0z\" fill=\"none\"/>\n",
              "    <path d=\"M18.56 5.44l.94 2.06.94-2.06 2.06-.94-2.06-.94-.94-2.06-.94 2.06-2.06.94zm-11 1L8.5 8.5l.94-2.06 2.06-.94-2.06-.94L8.5 2.5l-.94 2.06-2.06.94zm10 10l.94 2.06.94-2.06 2.06-.94-2.06-.94-.94-2.06-.94 2.06-2.06.94z\"/><path d=\"M17.41 7.96l-1.37-1.37c-.4-.4-.92-.59-1.43-.59-.52 0-1.04.2-1.43.59L10.3 9.45l-7.72 7.72c-.78.78-.78 2.05 0 2.83L4 21.41c.39.39.9.59 1.41.59.51 0 1.02-.2 1.41-.59l7.78-7.78 2.81-2.81c.8-.78.8-2.07 0-2.86zM5.41 20L4 18.59l7.72-7.72 1.47 1.35L5.41 20z\"/>\n",
              "  </svg>\n",
              "      </button>\n",
              "      \n",
              "  <style>\n",
              "    .colab-df-container {\n",
              "      display:flex;\n",
              "      flex-wrap:wrap;\n",
              "      gap: 12px;\n",
              "    }\n",
              "\n",
              "    .colab-df-convert {\n",
              "      background-color: #E8F0FE;\n",
              "      border: none;\n",
              "      border-radius: 50%;\n",
              "      cursor: pointer;\n",
              "      display: none;\n",
              "      fill: #1967D2;\n",
              "      height: 32px;\n",
              "      padding: 0 0 0 0;\n",
              "      width: 32px;\n",
              "    }\n",
              "\n",
              "    .colab-df-convert:hover {\n",
              "      background-color: #E2EBFA;\n",
              "      box-shadow: 0px 1px 2px rgba(60, 64, 67, 0.3), 0px 1px 3px 1px rgba(60, 64, 67, 0.15);\n",
              "      fill: #174EA6;\n",
              "    }\n",
              "\n",
              "    [theme=dark] .colab-df-convert {\n",
              "      background-color: #3B4455;\n",
              "      fill: #D2E3FC;\n",
              "    }\n",
              "\n",
              "    [theme=dark] .colab-df-convert:hover {\n",
              "      background-color: #434B5C;\n",
              "      box-shadow: 0px 1px 3px 1px rgba(0, 0, 0, 0.15);\n",
              "      filter: drop-shadow(0px 1px 2px rgba(0, 0, 0, 0.3));\n",
              "      fill: #FFFFFF;\n",
              "    }\n",
              "  </style>\n",
              "\n",
              "      <script>\n",
              "        const buttonEl =\n",
              "          document.querySelector('#df-aba66a78-13e4-434a-bff2-54d191d6db91 button.colab-df-convert');\n",
              "        buttonEl.style.display =\n",
              "          google.colab.kernel.accessAllowed ? 'block' : 'none';\n",
              "\n",
              "        async function convertToInteractive(key) {\n",
              "          const element = document.querySelector('#df-aba66a78-13e4-434a-bff2-54d191d6db91');\n",
              "          const dataTable =\n",
              "            await google.colab.kernel.invokeFunction('convertToInteractive',\n",
              "                                                     [key], {});\n",
              "          if (!dataTable) return;\n",
              "\n",
              "          const docLinkHtml = 'Like what you see? Visit the ' +\n",
              "            '<a target=\"_blank\" href=https://colab.research.google.com/notebooks/data_table.ipynb>data table notebook</a>'\n",
              "            + ' to learn more about interactive tables.';\n",
              "          element.innerHTML = '';\n",
              "          dataTable['output_type'] = 'display_data';\n",
              "          await google.colab.output.renderOutput(dataTable, element);\n",
              "          const docLink = document.createElement('div');\n",
              "          docLink.innerHTML = docLinkHtml;\n",
              "          element.appendChild(docLink);\n",
              "        }\n",
              "      </script>\n",
              "    </div>\n",
              "  </div>\n",
              "  "
            ],
            "text/plain": [
              "   id  Gender  Age  ...  Policy_Sales_Channel  Vintage  Response\n",
              "0   1    Male   44  ...                  26.0      217         1\n",
              "1   2    Male   76  ...                  26.0      183         0\n",
              "2   3    Male   47  ...                  26.0       27         1\n",
              "3   4    Male   21  ...                 152.0      203         0\n",
              "4   5  Female   29  ...                 152.0       39         0\n",
              "5   6  Female   24  ...                 160.0      176         0\n",
              "6   7    Male   23  ...                 152.0      249         0\n",
              "7   8  Female   56  ...                  26.0       72         1\n",
              "8   9  Female   24  ...                 152.0       28         0\n",
              "9  10  Female   32  ...                 152.0       80         0\n",
              "\n",
              "[10 rows x 12 columns]"
            ]
          },
          "metadata": {},
          "execution_count": 5
        }
      ]
    },
    {
      "cell_type": "code",
      "metadata": {
        "colab": {
          "base_uri": "https://localhost:8080/",
          "height": 270
        },
        "id": "nhIPhZ-ULlsG",
        "outputId": "607ed94f-6c6c-4c14-9b3a-7d20c79b1b83"
      },
      "source": [
        "data.tail()"
      ],
      "execution_count": 6,
      "outputs": [
        {
          "output_type": "execute_result",
          "data": {
            "text/html": [
              "\n",
              "  <div id=\"df-fa1f2cba-a951-4d02-af53-600577278927\">\n",
              "    <div class=\"colab-df-container\">\n",
              "      <div>\n",
              "<style scoped>\n",
              "    .dataframe tbody tr th:only-of-type {\n",
              "        vertical-align: middle;\n",
              "    }\n",
              "\n",
              "    .dataframe tbody tr th {\n",
              "        vertical-align: top;\n",
              "    }\n",
              "\n",
              "    .dataframe thead th {\n",
              "        text-align: right;\n",
              "    }\n",
              "</style>\n",
              "<table border=\"1\" class=\"dataframe\">\n",
              "  <thead>\n",
              "    <tr style=\"text-align: right;\">\n",
              "      <th></th>\n",
              "      <th>id</th>\n",
              "      <th>Gender</th>\n",
              "      <th>Age</th>\n",
              "      <th>Driving_License</th>\n",
              "      <th>Region_Code</th>\n",
              "      <th>Previously_Insured</th>\n",
              "      <th>Vehicle_Age</th>\n",
              "      <th>Vehicle_Damage</th>\n",
              "      <th>Annual_Premium</th>\n",
              "      <th>Policy_Sales_Channel</th>\n",
              "      <th>Vintage</th>\n",
              "      <th>Response</th>\n",
              "    </tr>\n",
              "  </thead>\n",
              "  <tbody>\n",
              "    <tr>\n",
              "      <th>381104</th>\n",
              "      <td>381105</td>\n",
              "      <td>Male</td>\n",
              "      <td>74</td>\n",
              "      <td>1</td>\n",
              "      <td>26.0</td>\n",
              "      <td>1</td>\n",
              "      <td>1-2 Year</td>\n",
              "      <td>No</td>\n",
              "      <td>30170.0</td>\n",
              "      <td>26.0</td>\n",
              "      <td>88</td>\n",
              "      <td>0</td>\n",
              "    </tr>\n",
              "    <tr>\n",
              "      <th>381105</th>\n",
              "      <td>381106</td>\n",
              "      <td>Male</td>\n",
              "      <td>30</td>\n",
              "      <td>1</td>\n",
              "      <td>37.0</td>\n",
              "      <td>1</td>\n",
              "      <td>&lt; 1 Year</td>\n",
              "      <td>No</td>\n",
              "      <td>40016.0</td>\n",
              "      <td>152.0</td>\n",
              "      <td>131</td>\n",
              "      <td>0</td>\n",
              "    </tr>\n",
              "    <tr>\n",
              "      <th>381106</th>\n",
              "      <td>381107</td>\n",
              "      <td>Male</td>\n",
              "      <td>21</td>\n",
              "      <td>1</td>\n",
              "      <td>30.0</td>\n",
              "      <td>1</td>\n",
              "      <td>&lt; 1 Year</td>\n",
              "      <td>No</td>\n",
              "      <td>35118.0</td>\n",
              "      <td>160.0</td>\n",
              "      <td>161</td>\n",
              "      <td>0</td>\n",
              "    </tr>\n",
              "    <tr>\n",
              "      <th>381107</th>\n",
              "      <td>381108</td>\n",
              "      <td>Female</td>\n",
              "      <td>68</td>\n",
              "      <td>1</td>\n",
              "      <td>14.0</td>\n",
              "      <td>0</td>\n",
              "      <td>&gt; 2 Years</td>\n",
              "      <td>Yes</td>\n",
              "      <td>44617.0</td>\n",
              "      <td>124.0</td>\n",
              "      <td>74</td>\n",
              "      <td>0</td>\n",
              "    </tr>\n",
              "    <tr>\n",
              "      <th>381108</th>\n",
              "      <td>381109</td>\n",
              "      <td>Male</td>\n",
              "      <td>46</td>\n",
              "      <td>1</td>\n",
              "      <td>29.0</td>\n",
              "      <td>0</td>\n",
              "      <td>1-2 Year</td>\n",
              "      <td>No</td>\n",
              "      <td>41777.0</td>\n",
              "      <td>26.0</td>\n",
              "      <td>237</td>\n",
              "      <td>0</td>\n",
              "    </tr>\n",
              "  </tbody>\n",
              "</table>\n",
              "</div>\n",
              "      <button class=\"colab-df-convert\" onclick=\"convertToInteractive('df-fa1f2cba-a951-4d02-af53-600577278927')\"\n",
              "              title=\"Convert this dataframe to an interactive table.\"\n",
              "              style=\"display:none;\">\n",
              "        \n",
              "  <svg xmlns=\"http://www.w3.org/2000/svg\" height=\"24px\"viewBox=\"0 0 24 24\"\n",
              "       width=\"24px\">\n",
              "    <path d=\"M0 0h24v24H0V0z\" fill=\"none\"/>\n",
              "    <path d=\"M18.56 5.44l.94 2.06.94-2.06 2.06-.94-2.06-.94-.94-2.06-.94 2.06-2.06.94zm-11 1L8.5 8.5l.94-2.06 2.06-.94-2.06-.94L8.5 2.5l-.94 2.06-2.06.94zm10 10l.94 2.06.94-2.06 2.06-.94-2.06-.94-.94-2.06-.94 2.06-2.06.94z\"/><path d=\"M17.41 7.96l-1.37-1.37c-.4-.4-.92-.59-1.43-.59-.52 0-1.04.2-1.43.59L10.3 9.45l-7.72 7.72c-.78.78-.78 2.05 0 2.83L4 21.41c.39.39.9.59 1.41.59.51 0 1.02-.2 1.41-.59l7.78-7.78 2.81-2.81c.8-.78.8-2.07 0-2.86zM5.41 20L4 18.59l7.72-7.72 1.47 1.35L5.41 20z\"/>\n",
              "  </svg>\n",
              "      </button>\n",
              "      \n",
              "  <style>\n",
              "    .colab-df-container {\n",
              "      display:flex;\n",
              "      flex-wrap:wrap;\n",
              "      gap: 12px;\n",
              "    }\n",
              "\n",
              "    .colab-df-convert {\n",
              "      background-color: #E8F0FE;\n",
              "      border: none;\n",
              "      border-radius: 50%;\n",
              "      cursor: pointer;\n",
              "      display: none;\n",
              "      fill: #1967D2;\n",
              "      height: 32px;\n",
              "      padding: 0 0 0 0;\n",
              "      width: 32px;\n",
              "    }\n",
              "\n",
              "    .colab-df-convert:hover {\n",
              "      background-color: #E2EBFA;\n",
              "      box-shadow: 0px 1px 2px rgba(60, 64, 67, 0.3), 0px 1px 3px 1px rgba(60, 64, 67, 0.15);\n",
              "      fill: #174EA6;\n",
              "    }\n",
              "\n",
              "    [theme=dark] .colab-df-convert {\n",
              "      background-color: #3B4455;\n",
              "      fill: #D2E3FC;\n",
              "    }\n",
              "\n",
              "    [theme=dark] .colab-df-convert:hover {\n",
              "      background-color: #434B5C;\n",
              "      box-shadow: 0px 1px 3px 1px rgba(0, 0, 0, 0.15);\n",
              "      filter: drop-shadow(0px 1px 2px rgba(0, 0, 0, 0.3));\n",
              "      fill: #FFFFFF;\n",
              "    }\n",
              "  </style>\n",
              "\n",
              "      <script>\n",
              "        const buttonEl =\n",
              "          document.querySelector('#df-fa1f2cba-a951-4d02-af53-600577278927 button.colab-df-convert');\n",
              "        buttonEl.style.display =\n",
              "          google.colab.kernel.accessAllowed ? 'block' : 'none';\n",
              "\n",
              "        async function convertToInteractive(key) {\n",
              "          const element = document.querySelector('#df-fa1f2cba-a951-4d02-af53-600577278927');\n",
              "          const dataTable =\n",
              "            await google.colab.kernel.invokeFunction('convertToInteractive',\n",
              "                                                     [key], {});\n",
              "          if (!dataTable) return;\n",
              "\n",
              "          const docLinkHtml = 'Like what you see? Visit the ' +\n",
              "            '<a target=\"_blank\" href=https://colab.research.google.com/notebooks/data_table.ipynb>data table notebook</a>'\n",
              "            + ' to learn more about interactive tables.';\n",
              "          element.innerHTML = '';\n",
              "          dataTable['output_type'] = 'display_data';\n",
              "          await google.colab.output.renderOutput(dataTable, element);\n",
              "          const docLink = document.createElement('div');\n",
              "          docLink.innerHTML = docLinkHtml;\n",
              "          element.appendChild(docLink);\n",
              "        }\n",
              "      </script>\n",
              "    </div>\n",
              "  </div>\n",
              "  "
            ],
            "text/plain": [
              "            id  Gender  Age  ...  Policy_Sales_Channel  Vintage  Response\n",
              "381104  381105    Male   74  ...                  26.0       88         0\n",
              "381105  381106    Male   30  ...                 152.0      131         0\n",
              "381106  381107    Male   21  ...                 160.0      161         0\n",
              "381107  381108  Female   68  ...                 124.0       74         0\n",
              "381108  381109    Male   46  ...                  26.0      237         0\n",
              "\n",
              "[5 rows x 12 columns]"
            ]
          },
          "metadata": {},
          "execution_count": 6
        }
      ]
    },
    {
      "cell_type": "code",
      "metadata": {
        "colab": {
          "base_uri": "https://localhost:8080/"
        },
        "id": "LKyMc3Q9fWma",
        "outputId": "0a5ed82f-6ec0-411f-f465-6fbef3137bb7"
      },
      "source": [
        "print(data.info())\n",
        "print()\n",
        "print(data.isna().sum())"
      ],
      "execution_count": 7,
      "outputs": [
        {
          "output_type": "stream",
          "name": "stdout",
          "text": [
            "<class 'pandas.core.frame.DataFrame'>\n",
            "RangeIndex: 381109 entries, 0 to 381108\n",
            "Data columns (total 12 columns):\n",
            " #   Column                Non-Null Count   Dtype  \n",
            "---  ------                --------------   -----  \n",
            " 0   id                    381109 non-null  int64  \n",
            " 1   Gender                381109 non-null  object \n",
            " 2   Age                   381109 non-null  int64  \n",
            " 3   Driving_License       381109 non-null  int64  \n",
            " 4   Region_Code           381109 non-null  float64\n",
            " 5   Previously_Insured    381109 non-null  int64  \n",
            " 6   Vehicle_Age           381109 non-null  object \n",
            " 7   Vehicle_Damage        381109 non-null  object \n",
            " 8   Annual_Premium        381109 non-null  float64\n",
            " 9   Policy_Sales_Channel  381109 non-null  float64\n",
            " 10  Vintage               381109 non-null  int64  \n",
            " 11  Response              381109 non-null  int64  \n",
            "dtypes: float64(3), int64(6), object(3)\n",
            "memory usage: 34.9+ MB\n",
            "None\n",
            "\n",
            "id                      0\n",
            "Gender                  0\n",
            "Age                     0\n",
            "Driving_License         0\n",
            "Region_Code             0\n",
            "Previously_Insured      0\n",
            "Vehicle_Age             0\n",
            "Vehicle_Damage          0\n",
            "Annual_Premium          0\n",
            "Policy_Sales_Channel    0\n",
            "Vintage                 0\n",
            "Response                0\n",
            "dtype: int64\n"
          ]
        }
      ]
    },
    {
      "cell_type": "markdown",
      "metadata": {
        "id": "qaneVrc02lT8"
      },
      "source": [
        "Dataset has 381109 rows and 12 columns. There is no missing values present in dataset."
      ]
    },
    {
      "cell_type": "code",
      "metadata": {
        "colab": {
          "base_uri": "https://localhost:8080/",
          "height": 300
        },
        "id": "hOQwWwDALo1K",
        "outputId": "1c7e8308-148f-4928-ebad-236c2203e93b"
      },
      "source": [
        "#Statistical Summary of Numeric Variables\n",
        "data.describe()"
      ],
      "execution_count": 8,
      "outputs": [
        {
          "output_type": "execute_result",
          "data": {
            "text/html": [
              "\n",
              "  <div id=\"df-4dcef869-3577-4a84-bc92-b7546b30e03d\">\n",
              "    <div class=\"colab-df-container\">\n",
              "      <div>\n",
              "<style scoped>\n",
              "    .dataframe tbody tr th:only-of-type {\n",
              "        vertical-align: middle;\n",
              "    }\n",
              "\n",
              "    .dataframe tbody tr th {\n",
              "        vertical-align: top;\n",
              "    }\n",
              "\n",
              "    .dataframe thead th {\n",
              "        text-align: right;\n",
              "    }\n",
              "</style>\n",
              "<table border=\"1\" class=\"dataframe\">\n",
              "  <thead>\n",
              "    <tr style=\"text-align: right;\">\n",
              "      <th></th>\n",
              "      <th>id</th>\n",
              "      <th>Age</th>\n",
              "      <th>Driving_License</th>\n",
              "      <th>Region_Code</th>\n",
              "      <th>Previously_Insured</th>\n",
              "      <th>Annual_Premium</th>\n",
              "      <th>Policy_Sales_Channel</th>\n",
              "      <th>Vintage</th>\n",
              "      <th>Response</th>\n",
              "    </tr>\n",
              "  </thead>\n",
              "  <tbody>\n",
              "    <tr>\n",
              "      <th>count</th>\n",
              "      <td>381109.000000</td>\n",
              "      <td>381109.000000</td>\n",
              "      <td>381109.000000</td>\n",
              "      <td>381109.000000</td>\n",
              "      <td>381109.000000</td>\n",
              "      <td>381109.000000</td>\n",
              "      <td>381109.000000</td>\n",
              "      <td>381109.000000</td>\n",
              "      <td>381109.000000</td>\n",
              "    </tr>\n",
              "    <tr>\n",
              "      <th>mean</th>\n",
              "      <td>190555.000000</td>\n",
              "      <td>38.822584</td>\n",
              "      <td>0.997869</td>\n",
              "      <td>26.388807</td>\n",
              "      <td>0.458210</td>\n",
              "      <td>30564.389581</td>\n",
              "      <td>112.034295</td>\n",
              "      <td>154.347397</td>\n",
              "      <td>0.122563</td>\n",
              "    </tr>\n",
              "    <tr>\n",
              "      <th>std</th>\n",
              "      <td>110016.836208</td>\n",
              "      <td>15.511611</td>\n",
              "      <td>0.046110</td>\n",
              "      <td>13.229888</td>\n",
              "      <td>0.498251</td>\n",
              "      <td>17213.155057</td>\n",
              "      <td>54.203995</td>\n",
              "      <td>83.671304</td>\n",
              "      <td>0.327936</td>\n",
              "    </tr>\n",
              "    <tr>\n",
              "      <th>min</th>\n",
              "      <td>1.000000</td>\n",
              "      <td>20.000000</td>\n",
              "      <td>0.000000</td>\n",
              "      <td>0.000000</td>\n",
              "      <td>0.000000</td>\n",
              "      <td>2630.000000</td>\n",
              "      <td>1.000000</td>\n",
              "      <td>10.000000</td>\n",
              "      <td>0.000000</td>\n",
              "    </tr>\n",
              "    <tr>\n",
              "      <th>25%</th>\n",
              "      <td>95278.000000</td>\n",
              "      <td>25.000000</td>\n",
              "      <td>1.000000</td>\n",
              "      <td>15.000000</td>\n",
              "      <td>0.000000</td>\n",
              "      <td>24405.000000</td>\n",
              "      <td>29.000000</td>\n",
              "      <td>82.000000</td>\n",
              "      <td>0.000000</td>\n",
              "    </tr>\n",
              "    <tr>\n",
              "      <th>50%</th>\n",
              "      <td>190555.000000</td>\n",
              "      <td>36.000000</td>\n",
              "      <td>1.000000</td>\n",
              "      <td>28.000000</td>\n",
              "      <td>0.000000</td>\n",
              "      <td>31669.000000</td>\n",
              "      <td>133.000000</td>\n",
              "      <td>154.000000</td>\n",
              "      <td>0.000000</td>\n",
              "    </tr>\n",
              "    <tr>\n",
              "      <th>75%</th>\n",
              "      <td>285832.000000</td>\n",
              "      <td>49.000000</td>\n",
              "      <td>1.000000</td>\n",
              "      <td>35.000000</td>\n",
              "      <td>1.000000</td>\n",
              "      <td>39400.000000</td>\n",
              "      <td>152.000000</td>\n",
              "      <td>227.000000</td>\n",
              "      <td>0.000000</td>\n",
              "    </tr>\n",
              "    <tr>\n",
              "      <th>max</th>\n",
              "      <td>381109.000000</td>\n",
              "      <td>85.000000</td>\n",
              "      <td>1.000000</td>\n",
              "      <td>52.000000</td>\n",
              "      <td>1.000000</td>\n",
              "      <td>540165.000000</td>\n",
              "      <td>163.000000</td>\n",
              "      <td>299.000000</td>\n",
              "      <td>1.000000</td>\n",
              "    </tr>\n",
              "  </tbody>\n",
              "</table>\n",
              "</div>\n",
              "      <button class=\"colab-df-convert\" onclick=\"convertToInteractive('df-4dcef869-3577-4a84-bc92-b7546b30e03d')\"\n",
              "              title=\"Convert this dataframe to an interactive table.\"\n",
              "              style=\"display:none;\">\n",
              "        \n",
              "  <svg xmlns=\"http://www.w3.org/2000/svg\" height=\"24px\"viewBox=\"0 0 24 24\"\n",
              "       width=\"24px\">\n",
              "    <path d=\"M0 0h24v24H0V0z\" fill=\"none\"/>\n",
              "    <path d=\"M18.56 5.44l.94 2.06.94-2.06 2.06-.94-2.06-.94-.94-2.06-.94 2.06-2.06.94zm-11 1L8.5 8.5l.94-2.06 2.06-.94-2.06-.94L8.5 2.5l-.94 2.06-2.06.94zm10 10l.94 2.06.94-2.06 2.06-.94-2.06-.94-.94-2.06-.94 2.06-2.06.94z\"/><path d=\"M17.41 7.96l-1.37-1.37c-.4-.4-.92-.59-1.43-.59-.52 0-1.04.2-1.43.59L10.3 9.45l-7.72 7.72c-.78.78-.78 2.05 0 2.83L4 21.41c.39.39.9.59 1.41.59.51 0 1.02-.2 1.41-.59l7.78-7.78 2.81-2.81c.8-.78.8-2.07 0-2.86zM5.41 20L4 18.59l7.72-7.72 1.47 1.35L5.41 20z\"/>\n",
              "  </svg>\n",
              "      </button>\n",
              "      \n",
              "  <style>\n",
              "    .colab-df-container {\n",
              "      display:flex;\n",
              "      flex-wrap:wrap;\n",
              "      gap: 12px;\n",
              "    }\n",
              "\n",
              "    .colab-df-convert {\n",
              "      background-color: #E8F0FE;\n",
              "      border: none;\n",
              "      border-radius: 50%;\n",
              "      cursor: pointer;\n",
              "      display: none;\n",
              "      fill: #1967D2;\n",
              "      height: 32px;\n",
              "      padding: 0 0 0 0;\n",
              "      width: 32px;\n",
              "    }\n",
              "\n",
              "    .colab-df-convert:hover {\n",
              "      background-color: #E2EBFA;\n",
              "      box-shadow: 0px 1px 2px rgba(60, 64, 67, 0.3), 0px 1px 3px 1px rgba(60, 64, 67, 0.15);\n",
              "      fill: #174EA6;\n",
              "    }\n",
              "\n",
              "    [theme=dark] .colab-df-convert {\n",
              "      background-color: #3B4455;\n",
              "      fill: #D2E3FC;\n",
              "    }\n",
              "\n",
              "    [theme=dark] .colab-df-convert:hover {\n",
              "      background-color: #434B5C;\n",
              "      box-shadow: 0px 1px 3px 1px rgba(0, 0, 0, 0.15);\n",
              "      filter: drop-shadow(0px 1px 2px rgba(0, 0, 0, 0.3));\n",
              "      fill: #FFFFFF;\n",
              "    }\n",
              "  </style>\n",
              "\n",
              "      <script>\n",
              "        const buttonEl =\n",
              "          document.querySelector('#df-4dcef869-3577-4a84-bc92-b7546b30e03d button.colab-df-convert');\n",
              "        buttonEl.style.display =\n",
              "          google.colab.kernel.accessAllowed ? 'block' : 'none';\n",
              "\n",
              "        async function convertToInteractive(key) {\n",
              "          const element = document.querySelector('#df-4dcef869-3577-4a84-bc92-b7546b30e03d');\n",
              "          const dataTable =\n",
              "            await google.colab.kernel.invokeFunction('convertToInteractive',\n",
              "                                                     [key], {});\n",
              "          if (!dataTable) return;\n",
              "\n",
              "          const docLinkHtml = 'Like what you see? Visit the ' +\n",
              "            '<a target=\"_blank\" href=https://colab.research.google.com/notebooks/data_table.ipynb>data table notebook</a>'\n",
              "            + ' to learn more about interactive tables.';\n",
              "          element.innerHTML = '';\n",
              "          dataTable['output_type'] = 'display_data';\n",
              "          await google.colab.output.renderOutput(dataTable, element);\n",
              "          const docLink = document.createElement('div');\n",
              "          docLink.innerHTML = docLinkHtml;\n",
              "          element.appendChild(docLink);\n",
              "        }\n",
              "      </script>\n",
              "    </div>\n",
              "  </div>\n",
              "  "
            ],
            "text/plain": [
              "                  id            Age  ...        Vintage       Response\n",
              "count  381109.000000  381109.000000  ...  381109.000000  381109.000000\n",
              "mean   190555.000000      38.822584  ...     154.347397       0.122563\n",
              "std    110016.836208      15.511611  ...      83.671304       0.327936\n",
              "min         1.000000      20.000000  ...      10.000000       0.000000\n",
              "25%     95278.000000      25.000000  ...      82.000000       0.000000\n",
              "50%    190555.000000      36.000000  ...     154.000000       0.000000\n",
              "75%    285832.000000      49.000000  ...     227.000000       0.000000\n",
              "max    381109.000000      85.000000  ...     299.000000       1.000000\n",
              "\n",
              "[8 rows x 9 columns]"
            ]
          },
          "metadata": {},
          "execution_count": 8
        }
      ]
    },
    {
      "cell_type": "markdown",
      "metadata": {
        "id": "W01fAGVE2rqJ"
      },
      "source": [
        "# **Data Visualizations**"
      ]
    },
    {
      "cell_type": "markdown",
      "metadata": {
        "id": "uYuB34kv2zQw"
      },
      "source": [
        "**Target Variable**"
      ]
    },
    {
      "cell_type": "code",
      "metadata": {
        "id": "Ae7s1thp3O5Z",
        "outputId": "e4708499-7947-4135-d193-77fefd389a95",
        "colab": {
          "base_uri": "https://localhost:8080/"
        }
      },
      "source": [
        "data['Response'].value_counts()"
      ],
      "execution_count": 9,
      "outputs": [
        {
          "output_type": "execute_result",
          "data": {
            "text/plain": [
              "0    334399\n",
              "1     46710\n",
              "Name: Response, dtype: int64"
            ]
          },
          "metadata": {},
          "execution_count": 9
        }
      ]
    },
    {
      "cell_type": "markdown",
      "metadata": {
        "id": "R_UK_Lxn3VJO"
      },
      "source": [
        "0 --> Customer is interested.\n",
        "\n",
        "1 --> Customer is not interested ."
      ]
    },
    {
      "cell_type": "code",
      "metadata": {
        "colab": {
          "base_uri": "https://localhost:8080/",
          "height": 360
        },
        "id": "ijhtKubAMMKX",
        "outputId": "bae7422e-eebd-45d7-b5f8-38c3344375c8"
      },
      "source": [
        "sns.set_theme(style=\"darkgrid\")\n",
        "sns.countplot(data['Response'],data=data)"
      ],
      "execution_count": 10,
      "outputs": [
        {
          "output_type": "stream",
          "name": "stderr",
          "text": [
            "/usr/local/lib/python3.7/dist-packages/seaborn/_decorators.py:43: FutureWarning: Pass the following variable as a keyword arg: x. From version 0.12, the only valid positional argument will be `data`, and passing other arguments without an explicit keyword will result in an error or misinterpretation.\n",
            "  FutureWarning\n"
          ]
        },
        {
          "output_type": "execute_result",
          "data": {
            "text/plain": [
              "<matplotlib.axes._subplots.AxesSubplot at 0x7fe860057090>"
            ]
          },
          "metadata": {},
          "execution_count": 10
        },
        {
          "output_type": "display_data",
          "data": {
            "image/png": "[encoded data removed]",
            "text/plain": [
              "<Figure size 432x288 with 1 Axes>"
            ]
          },
          "metadata": {}
        }
      ]
    },
    {
      "cell_type": "markdown",
      "metadata": {
        "id": "XydhdB3x3zww"
      },
      "source": [
        "The data is highly imbalanced."
      ]
    },
    {
      "cell_type": "code",
      "metadata": {
        "colab": {
          "base_uri": "https://localhost:8080/",
          "height": 444
        },
        "id": "RMV_H-QCO_5f",
        "outputId": "7bd0c075-828a-43e2-eca9-a51a7886539d"
      },
      "source": [
        "plt.figure(figsize = (13,5))\n",
        "plt.subplot(1,2,1)\n",
        "sns.countplot(data['Gender'],palette='husl')\n",
        "plt.title(\"count of male and female\")\n",
        "plt.subplot(1,2,2)\n",
        "sns.countplot(data['Gender'], hue = data['Response'],palette=\"husl\")\n",
        "plt.title(\"Response in Male and female category\")\n",
        "plt.show()"
      ],
      "execution_count": 11,
      "outputs": [
        {
          "output_type": "stream",
          "name": "stderr",
          "text": [
            "/usr/local/lib/python3.7/dist-packages/seaborn/_decorators.py:43: FutureWarning: Pass the following variable as a keyword arg: x. From version 0.12, the only valid positional argument will be `data`, and passing other arguments without an explicit keyword will result in an error or misinterpretation.\n",
            "  FutureWarning\n",
            "/usr/local/lib/python3.7/dist-packages/seaborn/_decorators.py:43: FutureWarning: Pass the following variable as a keyword arg: x. From version 0.12, the only valid positional argument will be `data`, and passing other arguments without an explicit keyword will result in an error or misinterpretation.\n",
            "  FutureWarning\n"
          ]
        },
        {
          "output_type": "display_data",
          "data": {
            "image/png": "[encoded data removed]",
            "text/plain": [
              "<Figure size 936x360 with 2 Axes>"
            ]
          },
          "metadata": {}
        }
      ]
    },
    {
      "cell_type": "markdown",
      "metadata": {
        "id": "j5mRqMocAYG9"
      },
      "source": [
        "* The gender variable in the dataset is almost equally distributed.\n",
        "*Male category is slightly greater than that of female and chances of buying the insurance is also little high."
      ]
    },
    {
      "cell_type": "markdown",
      "metadata": {
        "id": "w8w7yPO2Ape6"
      },
      "source": [
        "**Age Vs Response**"
      ]
    },
    {
      "cell_type": "code",
      "metadata": {
        "colab": {
          "base_uri": "https://localhost:8080/",
          "height": 628
        },
        "id": "El5NqPizPpMA",
        "outputId": "04897c95-b5f9-4e96-f239-5a4ed94975df"
      },
      "source": [
        "#Age VS Response\n",
        "plt.figure(figsize=(20,10))\n",
        "sns.countplot(x='Age',hue='Response',data=data)"
      ],
      "execution_count": 12,
      "outputs": [
        {
          "output_type": "execute_result",
          "data": {
            "text/plain": [
              "<matplotlib.axes._subplots.AxesSubplot at 0x7fe83c279bd0>"
            ]
          },
          "metadata": {},
          "execution_count": 12
        },
        {
          "output_type": "display_data",
          "data": {
            "image/png": "[encoded data removed]",
            "text/plain": [
              "<Figure size 1440x720 with 1 Axes>"
            ]
          },
          "metadata": {}
        }
      ]
    },
    {
      "cell_type": "code",
      "metadata": {
        "colab": {
          "base_uri": "https://localhost:8080/",
          "height": 357
        },
        "id": "3l11bJZWP_Xk",
        "outputId": "ab2fdeb4-da7e-4c44-e01a-4ae7fefe5ae6"
      },
      "source": [
        "sns.boxplot(data['Age'])"
      ],
      "execution_count": 13,
      "outputs": [
        {
          "output_type": "stream",
          "name": "stderr",
          "text": [
            "/usr/local/lib/python3.7/dist-packages/seaborn/_decorators.py:43: FutureWarning: Pass the following variable as a keyword arg: x. From version 0.12, the only valid positional argument will be `data`, and passing other arguments without an explicit keyword will result in an error or misinterpretation.\n",
            "  FutureWarning\n"
          ]
        },
        {
          "output_type": "execute_result",
          "data": {
            "text/plain": [
              "<matplotlib.axes._subplots.AxesSubplot at 0x7fe83bfa3fd0>"
            ]
          },
          "metadata": {},
          "execution_count": 13
        },
        {
          "output_type": "display_data",
          "data": {
            "image/png": "[encoded data removed]",
            "text/plain": [
              "<Figure size 432x288 with 1 Axes>"
            ]
          },
          "metadata": {}
        }
      ]
    },
    {
      "cell_type": "markdown",
      "metadata": {
        "id": "ocw7Ta_NAxAp"
      },
      "source": [
        "* Young people below 30 are not interested in vehicle insurance. Reasons could be lack of experience, less maturity level and they don't have expensive vehicles yet.\n",
        "* People aged between 30-60 are more likely to be interested.\n",
        "* From the boxplot we can see that there no outlier in the data."
      ]
    },
    {
      "cell_type": "markdown",
      "metadata": {
        "id": "3s1O6-3cBBe2"
      },
      "source": [
        "**Driving License**"
      ]
    },
    {
      "cell_type": "code",
      "metadata": {
        "colab": {
          "base_uri": "https://localhost:8080/",
          "height": 361
        },
        "id": "_WM9PbyGQaYn",
        "outputId": "c7c5cf9d-78e9-48b9-98a5-184b85e1ded2"
      },
      "source": [
        "sns.countplot(data['Driving_License'],hue=data['Response'])"
      ],
      "execution_count": 14,
      "outputs": [
        {
          "output_type": "stream",
          "name": "stderr",
          "text": [
            "/usr/local/lib/python3.7/dist-packages/seaborn/_decorators.py:43: FutureWarning: Pass the following variable as a keyword arg: x. From version 0.12, the only valid positional argument will be `data`, and passing other arguments without an explicit keyword will result in an error or misinterpretation.\n",
            "  FutureWarning\n"
          ]
        },
        {
          "output_type": "execute_result",
          "data": {
            "text/plain": [
              "<matplotlib.axes._subplots.AxesSubplot at 0x7fe83bf01990>"
            ]
          },
          "metadata": {},
          "execution_count": 14
        },
        {
          "output_type": "display_data",
          "data": {
            "image/png": "[encoded data removed]",
            "text/plain": [
              "<Figure size 432x288 with 1 Axes>"
            ]
          },
          "metadata": {}
        }
      ]
    },
    {
      "cell_type": "markdown",
      "metadata": {
        "id": "GnEM_c2eBIbZ"
      },
      "source": [
        "* Customers who are interested in Vehicle Insurance almost all have driving license"
      ]
    },
    {
      "cell_type": "markdown",
      "metadata": {
        "id": "ThnRi5-OB6SV"
      },
      "source": [
        "**Previously_Insured Vs Response**"
      ]
    },
    {
      "cell_type": "code",
      "metadata": {
        "id": "mM-y99QxB4Kg",
        "outputId": "a40bcd10-397d-4d36-f569-31ef13418647",
        "colab": {
          "base_uri": "https://localhost:8080/",
          "height": 302
        }
      },
      "source": [
        "sns.countplot(x='Previously_Insured',hue='Response',data=data,palette='husl')"
      ],
      "execution_count": 15,
      "outputs": [
        {
          "output_type": "execute_result",
          "data": {
            "text/plain": [
              "<matplotlib.axes._subplots.AxesSubplot at 0x7fe83befce50>"
            ]
          },
          "metadata": {},
          "execution_count": 15
        },
        {
          "output_type": "display_data",
          "data": {
            "image/png": "[encoded data removed]",
            "text/plain": [
              "<Figure size 432x288 with 1 Axes>"
            ]
          },
          "metadata": {}
        }
      ]
    },
    {
      "cell_type": "markdown",
      "metadata": {
        "id": "u3g0sCycCzTB"
      },
      "source": [
        "* Customer who are not perviosly insured are likely to be inetrested"
      ]
    },
    {
      "cell_type": "markdown",
      "metadata": {
        "id": "oAN1WNOkC5S9"
      },
      "source": [
        "**Vehicle_Age Vs Response**"
      ]
    },
    {
      "cell_type": "code",
      "metadata": {
        "colab": {
          "base_uri": "https://localhost:8080/",
          "height": 302
        },
        "id": "T0fh1ew8QuTk",
        "outputId": "ed9a9b4f-52e2-44ba-a77f-ee27d13ddd3d"
      },
      "source": [
        "sns.countplot(x='Vehicle_Age',hue='Response',data=data,palette='husl')"
      ],
      "execution_count": 16,
      "outputs": [
        {
          "output_type": "execute_result",
          "data": {
            "text/plain": [
              "<matplotlib.axes._subplots.AxesSubplot at 0x7fe83be6fe50>"
            ]
          },
          "metadata": {},
          "execution_count": 16
        },
        {
          "output_type": "display_data",
          "data": {
            "image/png": "[encoded data removed]",
            "text/plain": [
              "<Figure size 432x288 with 1 Axes>"
            ]
          },
          "metadata": {}
        }
      ]
    },
    {
      "cell_type": "markdown",
      "metadata": {
        "id": "CxRfCBROBe3b"
      },
      "source": [
        "* Customers with vechicle age 1-2 years are more likely to interested as compared to the other two\n",
        "\n",
        "* Customers with with Vehicle_Age <1 years have very less chance of buying Insurance"
      ]
    },
    {
      "cell_type": "markdown",
      "metadata": {
        "id": "FDsav2c7BNHa"
      },
      "source": [
        "**Annual_Premium**"
      ]
    },
    {
      "cell_type": "code",
      "metadata": {
        "colab": {
          "base_uri": "https://localhost:8080/",
          "height": 584
        },
        "id": "quY_3w3bQ1a7",
        "outputId": "3e2f2ae3-7edb-4e5b-8961-d58cea1b089e"
      },
      "source": [
        "plt.figure(figsize=(13,7))\n",
        "plt.subplot(2,1,1)\n",
        "sns.distplot(data['Annual_Premium'], color='Green')\n",
        "plt.title(\"Distribution of Annual premium\")\n",
        "plt.show()\n",
        "plt.figure(figsize=(13,7))\n",
        "plt.subplot(2,1,2)\n",
        "sns.boxplot(data['Annual_Premium'])\n",
        "plt.title(\"boxplot of Annual premium\")\n",
        "plt.show()"
      ],
      "execution_count": 17,
      "outputs": [
        {
          "output_type": "stream",
          "name": "stderr",
          "text": [
            "/usr/local/lib/python3.7/dist-packages/seaborn/distributions.py:2619: FutureWarning: `distplot` is a deprecated function and will be removed in a future version. Please adapt your code to use either `displot` (a figure-level function with similar flexibility) or `histplot` (an axes-level function for histograms).\n",
            "  warnings.warn(msg, FutureWarning)\n"
          ]
        },
        {
          "output_type": "display_data",
          "data": {
            "image/png": "[encoded data removed]",
            "text/plain": [
              "<Figure size 936x504 with 1 Axes>"
            ]
          },
          "metadata": {}
        },
        {
          "output_type": "stream",
          "name": "stderr",
          "text": [
            "/usr/local/lib/python3.7/dist-packages/seaborn/_decorators.py:43: FutureWarning: Pass the following variable as a keyword arg: x. From version 0.12, the only valid positional argument will be `data`, and passing other arguments without an explicit keyword will result in an error or misinterpretation.\n",
            "  FutureWarning\n"
          ]
        },
        {
          "output_type": "display_data",
          "data": {
            "image/png": "[encoded data removed]",
            "text/plain": [
              "<Figure size 936x504 with 1 Axes>"
            ]
          },
          "metadata": {}
        }
      ]
    },
    {
      "cell_type": "markdown",
      "metadata": {
        "id": "YfWOsMFJDb7P"
      },
      "source": [
        "* From the distribution plot we can infer that the annual premimum variable is right skewed\n",
        "* From the boxplot we can observe lot of outliers in the variable"
      ]
    },
    {
      "cell_type": "markdown",
      "metadata": {
        "id": "4fGX0Fw1DnEN"
      },
      "source": [
        "**Correlation Matrix**"
      ]
    },
    {
      "cell_type": "code",
      "metadata": {
        "id": "Zm5gf0FrDlDj",
        "outputId": "cfc6ff52-329d-442c-c526-20e7019c2e70",
        "colab": {
          "base_uri": "https://localhost:8080/",
          "height": 737
        }
      },
      "source": [
        "corr = data.corr()\n",
        "\n",
        "f, ax = plt.subplots(figsize=(10,10))\n",
        "\n",
        "sns.heatmap(corr, ax=ax, annot=True,linewidths=3,cmap='YlGn')\n",
        "\n",
        "plt.title(\"Pearson correlation of Features\", y=1.05, size=15)"
      ],
      "execution_count": 18,
      "outputs": [
        {
          "output_type": "execute_result",
          "data": {
            "text/plain": [
              "Text(0.5, 1.05, 'Pearson correlation of Features')"
            ]
          },
          "metadata": {},
          "execution_count": 18
        },
        {
          "output_type": "display_data",
          "data": {
            "image/png": "[encoded data removed]",
            "text/plain": [
              "<Figure size 720x720 with 2 Axes>"
            ]
          },
          "metadata": {}
        }
      ]
    },
    {
      "cell_type": "markdown",
      "metadata": {
        "id": "bHKF7pM7D-HA"
      },
      "source": [
        "* Target variable is not much affected by Vintage variable. we can drop least correlated variable."
      ]
    },
    {
      "cell_type": "markdown",
      "metadata": {
        "id": "Zv2X-9dLEDHD"
      },
      "source": [
        "# **3.Prepare Data**"
      ]
    },
    {
      "cell_type": "markdown",
      "metadata": {
        "id": "Nm4c-coPEOJt"
      },
      "source": [
        "**Label encoding**"
      ]
    },
    {
      "cell_type": "code",
      "metadata": {
        "id": "O-PQX2w-k9KQ",
        "outputId": "dd28a305-399d-471d-a1ac-00c76f406de7",
        "colab": {
          "base_uri": "https://localhost:8080/",
          "height": 488
        }
      },
      "source": [
        "#changing categorical value to numerical values\n",
        "labelEncoder= LabelEncoder()\n",
        "data['Gender'] = labelEncoder.fit_transform(data['Gender'])\n",
        "data['Vehicle_Age'] = labelEncoder.fit_transform(data['Vehicle_Age'])\n",
        "data['Vehicle_Damage'] = labelEncoder.fit_transform(data['Vehicle_Damage'])\n",
        "data"
      ],
      "execution_count": 19,
      "outputs": [
        {
          "output_type": "execute_result",
          "data": {
            "text/html": [
              "\n",
              "  <div id=\"df-0d860b0d-4917-43c0-bdea-6142107732aa\">\n",
              "    <div class=\"colab-df-container\">\n",
              "      <div>\n",
              "<style scoped>\n",
              "    .dataframe tbody tr th:only-of-type {\n",
              "        vertical-align: middle;\n",
              "    }\n",
              "\n",
              "    .dataframe tbody tr th {\n",
              "        vertical-align: top;\n",
              "    }\n",
              "\n",
              "    .dataframe thead th {\n",
              "        text-align: right;\n",
              "    }\n",
              "</style>\n",
              "<table border=\"1\" class=\"dataframe\">\n",
              "  <thead>\n",
              "    <tr style=\"text-align: right;\">\n",
              "      <th></th>\n",
              "      <th>id</th>\n",
              "      <th>Gender</th>\n",
              "      <th>Age</th>\n",
              "      <th>Driving_License</th>\n",
              "      <th>Region_Code</th>\n",
              "      <th>Previously_Insured</th>\n",
              "      <th>Vehicle_Age</th>\n",
              "      <th>Vehicle_Damage</th>\n",
              "      <th>Annual_Premium</th>\n",
              "      <th>Policy_Sales_Channel</th>\n",
              "      <th>Vintage</th>\n",
              "      <th>Response</th>\n",
              "    </tr>\n",
              "  </thead>\n",
              "  <tbody>\n",
              "    <tr>\n",
              "      <th>0</th>\n",
              "      <td>1</td>\n",
              "      <td>1</td>\n",
              "      <td>44</td>\n",
              "      <td>1</td>\n",
              "      <td>28.0</td>\n",
              "      <td>0</td>\n",
              "      <td>2</td>\n",
              "      <td>1</td>\n",
              "      <td>40454.0</td>\n",
              "      <td>26.0</td>\n",
              "      <td>217</td>\n",
              "      <td>1</td>\n",
              "    </tr>\n",
              "    <tr>\n",
              "      <th>1</th>\n",
              "      <td>2</td>\n",
              "      <td>1</td>\n",
              "      <td>76</td>\n",
              "      <td>1</td>\n",
              "      <td>3.0</td>\n",
              "      <td>0</td>\n",
              "      <td>0</td>\n",
              "      <td>0</td>\n",
              "      <td>33536.0</td>\n",
              "      <td>26.0</td>\n",
              "      <td>183</td>\n",
              "      <td>0</td>\n",
              "    </tr>\n",
              "    <tr>\n",
              "      <th>2</th>\n",
              "      <td>3</td>\n",
              "      <td>1</td>\n",
              "      <td>47</td>\n",
              "      <td>1</td>\n",
              "      <td>28.0</td>\n",
              "      <td>0</td>\n",
              "      <td>2</td>\n",
              "      <td>1</td>\n",
              "      <td>38294.0</td>\n",
              "      <td>26.0</td>\n",
              "      <td>27</td>\n",
              "      <td>1</td>\n",
              "    </tr>\n",
              "    <tr>\n",
              "      <th>3</th>\n",
              "      <td>4</td>\n",
              "      <td>1</td>\n",
              "      <td>21</td>\n",
              "      <td>1</td>\n",
              "      <td>11.0</td>\n",
              "      <td>1</td>\n",
              "      <td>1</td>\n",
              "      <td>0</td>\n",
              "      <td>28619.0</td>\n",
              "      <td>152.0</td>\n",
              "      <td>203</td>\n",
              "      <td>0</td>\n",
              "    </tr>\n",
              "    <tr>\n",
              "      <th>4</th>\n",
              "      <td>5</td>\n",
              "      <td>0</td>\n",
              "      <td>29</td>\n",
              "      <td>1</td>\n",
              "      <td>41.0</td>\n",
              "      <td>1</td>\n",
              "      <td>1</td>\n",
              "      <td>0</td>\n",
              "      <td>27496.0</td>\n",
              "      <td>152.0</td>\n",
              "      <td>39</td>\n",
              "      <td>0</td>\n",
              "    </tr>\n",
              "    <tr>\n",
              "      <th>...</th>\n",
              "      <td>...</td>\n",
              "      <td>...</td>\n",
              "      <td>...</td>\n",
              "      <td>...</td>\n",
              "      <td>...</td>\n",
              "      <td>...</td>\n",
              "      <td>...</td>\n",
              "      <td>...</td>\n",
              "      <td>...</td>\n",
              "      <td>...</td>\n",
              "      <td>...</td>\n",
              "      <td>...</td>\n",
              "    </tr>\n",
              "    <tr>\n",
              "      <th>381104</th>\n",
              "      <td>381105</td>\n",
              "      <td>1</td>\n",
              "      <td>74</td>\n",
              "      <td>1</td>\n",
              "      <td>26.0</td>\n",
              "      <td>1</td>\n",
              "      <td>0</td>\n",
              "      <td>0</td>\n",
              "      <td>30170.0</td>\n",
              "      <td>26.0</td>\n",
              "      <td>88</td>\n",
              "      <td>0</td>\n",
              "    </tr>\n",
              "    <tr>\n",
              "      <th>381105</th>\n",
              "      <td>381106</td>\n",
              "      <td>1</td>\n",
              "      <td>30</td>\n",
              "      <td>1</td>\n",
              "      <td>37.0</td>\n",
              "      <td>1</td>\n",
              "      <td>1</td>\n",
              "      <td>0</td>\n",
              "      <td>40016.0</td>\n",
              "      <td>152.0</td>\n",
              "      <td>131</td>\n",
              "      <td>0</td>\n",
              "    </tr>\n",
              "    <tr>\n",
              "      <th>381106</th>\n",
              "      <td>381107</td>\n",
              "      <td>1</td>\n",
              "      <td>21</td>\n",
              "      <td>1</td>\n",
              "      <td>30.0</td>\n",
              "      <td>1</td>\n",
              "      <td>1</td>\n",
              "      <td>0</td>\n",
              "      <td>35118.0</td>\n",
              "      <td>160.0</td>\n",
              "      <td>161</td>\n",
              "      <td>0</td>\n",
              "    </tr>\n",
              "    <tr>\n",
              "      <th>381107</th>\n",
              "      <td>381108</td>\n",
              "      <td>0</td>\n",
              "      <td>68</td>\n",
              "      <td>1</td>\n",
              "      <td>14.0</td>\n",
              "      <td>0</td>\n",
              "      <td>2</td>\n",
              "      <td>1</td>\n",
              "      <td>44617.0</td>\n",
              "      <td>124.0</td>\n",
              "      <td>74</td>\n",
              "      <td>0</td>\n",
              "    </tr>\n",
              "    <tr>\n",
              "      <th>381108</th>\n",
              "      <td>381109</td>\n",
              "      <td>1</td>\n",
              "      <td>46</td>\n",
              "      <td>1</td>\n",
              "      <td>29.0</td>\n",
              "      <td>0</td>\n",
              "      <td>0</td>\n",
              "      <td>0</td>\n",
              "      <td>41777.0</td>\n",
              "      <td>26.0</td>\n",
              "      <td>237</td>\n",
              "      <td>0</td>\n",
              "    </tr>\n",
              "  </tbody>\n",
              "</table>\n",
              "<p>381109 rows × 12 columns</p>\n",
              "</div>\n",
              "      <button class=\"colab-df-convert\" onclick=\"convertToInteractive('df-0d860b0d-4917-43c0-bdea-6142107732aa')\"\n",
              "              title=\"Convert this dataframe to an interactive table.\"\n",
              "              style=\"display:none;\">\n",
              "        \n",
              "  <svg xmlns=\"http://www.w3.org/2000/svg\" height=\"24px\"viewBox=\"0 0 24 24\"\n",
              "       width=\"24px\">\n",
              "    <path d=\"M0 0h24v24H0V0z\" fill=\"none\"/>\n",
              "    <path d=\"M18.56 5.44l.94 2.06.94-2.06 2.06-.94-2.06-.94-.94-2.06-.94 2.06-2.06.94zm-11 1L8.5 8.5l.94-2.06 2.06-.94-2.06-.94L8.5 2.5l-.94 2.06-2.06.94zm10 10l.94 2.06.94-2.06 2.06-.94-2.06-.94-.94-2.06-.94 2.06-2.06.94z\"/><path d=\"M17.41 7.96l-1.37-1.37c-.4-.4-.92-.59-1.43-.59-.52 0-1.04.2-1.43.59L10.3 9.45l-7.72 7.72c-.78.78-.78 2.05 0 2.83L4 21.41c.39.39.9.59 1.41.59.51 0 1.02-.2 1.41-.59l7.78-7.78 2.81-2.81c.8-.78.8-2.07 0-2.86zM5.41 20L4 18.59l7.72-7.72 1.47 1.35L5.41 20z\"/>\n",
              "  </svg>\n",
              "      </button>\n",
              "      \n",
              "  <style>\n",
              "    .colab-df-container {\n",
              "      display:flex;\n",
              "      flex-wrap:wrap;\n",
              "      gap: 12px;\n",
              "    }\n",
              "\n",
              "    .colab-df-convert {\n",
              "      background-color: #E8F0FE;\n",
              "      border: none;\n",
              "      border-radius: 50%;\n",
              "      cursor: pointer;\n",
              "      display: none;\n",
              "      fill: #1967D2;\n",
              "      height: 32px;\n",
              "      padding: 0 0 0 0;\n",
              "      width: 32px;\n",
              "    }\n",
              "\n",
              "    .colab-df-convert:hover {\n",
              "      background-color: #E2EBFA;\n",
              "      box-shadow: 0px 1px 2px rgba(60, 64, 67, 0.3), 0px 1px 3px 1px rgba(60, 64, 67, 0.15);\n",
              "      fill: #174EA6;\n",
              "    }\n",
              "\n",
              "    [theme=dark] .colab-df-convert {\n",
              "      background-color: #3B4455;\n",
              "      fill: #D2E3FC;\n",
              "    }\n",
              "\n",
              "    [theme=dark] .colab-df-convert:hover {\n",
              "      background-color: #434B5C;\n",
              "      box-shadow: 0px 1px 3px 1px rgba(0, 0, 0, 0.15);\n",
              "      filter: drop-shadow(0px 1px 2px rgba(0, 0, 0, 0.3));\n",
              "      fill: #FFFFFF;\n",
              "    }\n",
              "  </style>\n",
              "\n",
              "      <script>\n",
              "        const buttonEl =\n",
              "          document.querySelector('#df-0d860b0d-4917-43c0-bdea-6142107732aa button.colab-df-convert');\n",
              "        buttonEl.style.display =\n",
              "          google.colab.kernel.accessAllowed ? 'block' : 'none';\n",
              "\n",
              "        async function convertToInteractive(key) {\n",
              "          const element = document.querySelector('#df-0d860b0d-4917-43c0-bdea-6142107732aa');\n",
              "          const dataTable =\n",
              "            await google.colab.kernel.invokeFunction('convertToInteractive',\n",
              "                                                     [key], {});\n",
              "          if (!dataTable) return;\n",
              "\n",
              "          const docLinkHtml = 'Like what you see? Visit the ' +\n",
              "            '<a target=\"_blank\" href=https://colab.research.google.com/notebooks/data_table.ipynb>data table notebook</a>'\n",
              "            + ' to learn more about interactive tables.';\n",
              "          element.innerHTML = '';\n",
              "          dataTable['output_type'] = 'display_data';\n",
              "          await google.colab.output.renderOutput(dataTable, element);\n",
              "          const docLink = document.createElement('div');\n",
              "          docLink.innerHTML = docLinkHtml;\n",
              "          element.appendChild(docLink);\n",
              "        }\n",
              "      </script>\n",
              "    </div>\n",
              "  </div>\n",
              "  "
            ],
            "text/plain": [
              "            id  Gender  Age  ...  Policy_Sales_Channel  Vintage  Response\n",
              "0            1       1   44  ...                  26.0      217         1\n",
              "1            2       1   76  ...                  26.0      183         0\n",
              "2            3       1   47  ...                  26.0       27         1\n",
              "3            4       1   21  ...                 152.0      203         0\n",
              "4            5       0   29  ...                 152.0       39         0\n",
              "...        ...     ...  ...  ...                   ...      ...       ...\n",
              "381104  381105       1   74  ...                  26.0       88         0\n",
              "381105  381106       1   30  ...                 152.0      131         0\n",
              "381106  381107       1   21  ...                 160.0      161         0\n",
              "381107  381108       0   68  ...                 124.0       74         0\n",
              "381108  381109       1   46  ...                  26.0      237         0\n",
              "\n",
              "[381109 rows x 12 columns]"
            ]
          },
          "metadata": {},
          "execution_count": 19
        }
      ]
    },
    {
      "cell_type": "code",
      "metadata": {
        "colab": {
          "base_uri": "https://localhost:8080/"
        },
        "id": "8UG43uOsiVVb",
        "outputId": "9e41ffed-120a-48dc-93f3-97893eac5df8"
      },
      "source": [
        "data.dtypes"
      ],
      "execution_count": 20,
      "outputs": [
        {
          "output_type": "execute_result",
          "data": {
            "text/plain": [
              "id                        int64\n",
              "Gender                    int64\n",
              "Age                       int64\n",
              "Driving_License           int64\n",
              "Region_Code             float64\n",
              "Previously_Insured        int64\n",
              "Vehicle_Age               int64\n",
              "Vehicle_Damage            int64\n",
              "Annual_Premium          float64\n",
              "Policy_Sales_Channel    float64\n",
              "Vintage                   int64\n",
              "Response                  int64\n",
              "dtype: object"
            ]
          },
          "metadata": {},
          "execution_count": 20
        }
      ]
    },
    {
      "cell_type": "markdown",
      "metadata": {
        "id": "dpGI8eC3F55M"
      },
      "source": [
        "**Checking duplicate rows**"
      ]
    },
    {
      "cell_type": "code",
      "metadata": {
        "colab": {
          "base_uri": "https://localhost:8080/"
        },
        "id": "GGjhbEpoidOH",
        "outputId": "05642be9-c56f-45c1-aa2b-d03eb0acdfc4"
      },
      "source": [
        "duplicate=data[data.duplicated()]\n",
        "print(duplicate)"
      ],
      "execution_count": 21,
      "outputs": [
        {
          "output_type": "stream",
          "name": "stdout",
          "text": [
            "Empty DataFrame\n",
            "Columns: [id, Gender, Age, Driving_License, Region_Code, Previously_Insured, Vehicle_Age, Vehicle_Damage, Annual_Premium, Policy_Sales_Channel, Vintage, Response]\n",
            "Index: []\n"
          ]
        }
      ]
    },
    {
      "cell_type": "markdown",
      "metadata": {
        "id": "DXpOcR21GCWn"
      },
      "source": [
        "* there is no duplicated rows in the dataset"
      ]
    },
    {
      "cell_type": "markdown",
      "metadata": {
        "id": "xqQ25hJQGJRG"
      },
      "source": [
        "**Seprating dependent and independent variables**"
      ]
    },
    {
      "cell_type": "code",
      "metadata": {
        "id": "mkD9SVU_inm4"
      },
      "source": [
        "x=data.drop(['Response'],axis=1) #contain all  independent variable\n",
        "y=data['Response']           #dependent variable"
      ],
      "execution_count": 22,
      "outputs": []
    },
    {
      "cell_type": "markdown",
      "metadata": {
        "id": "QcprJJyiGRLX"
      },
      "source": [
        "**Feature Selection**"
      ]
    },
    {
      "cell_type": "code",
      "metadata": {
        "colab": {
          "base_uri": "https://localhost:8080/",
          "height": 303
        },
        "id": "N_1b8ugYiwKT",
        "outputId": "854207e3-3130-472e-925e-7a431a933df1"
      },
      "source": [
        "from sklearn.ensemble import ExtraTreesClassifier\n",
        "model = ExtraTreesClassifier()\n",
        "model.fit(x,y)\n",
        "print(model.feature_importances_) #use inbuilt class feature_importances of tree based clas\n",
        "#plot graph of feature importances for better visualization\n",
        "feat_importances = pd.Series(model.feature_importances_, index=x.columns)\n",
        "feat_importances.nlargest(11).plot(kind='barh')\n",
        "plt.show()"
      ],
      "execution_count": 23,
      "outputs": [
        {
          "output_type": "stream",
          "name": "stdout",
          "text": [
            "[0.19346574 0.00601873 0.13793992 0.00048693 0.0951238  0.05341393\n",
            " 0.01601077 0.07686872 0.16398753 0.06916125 0.18752269]\n"
          ]
        },
        {
          "output_type": "display_data",
          "data": {
            "image/png": "[encoded data removed]",
            "text/plain": [
              "<Figure size 432x288 with 1 Axes>"
            ]
          },
          "metadata": {}
        }
      ]
    },
    {
      "cell_type": "markdown",
      "metadata": {
        "id": "7XBIIgtpGWt8"
      },
      "source": [
        "* We can remove less important features from the data set\n"
      ]
    },
    {
      "cell_type": "code",
      "metadata": {
        "id": "wwlrJaaDjG7T"
      },
      "source": [
        "x=x.drop(['Driving_License','Gender'],axis=1)"
      ],
      "execution_count": 24,
      "outputs": []
    },
    {
      "cell_type": "markdown",
      "metadata": {
        "id": "YE2iDBHKGgSn"
      },
      "source": [
        "**Handling Imbalanced data**"
      ]
    },
    {
      "cell_type": "markdown",
      "metadata": {
        "id": "ocmhDt4WGpSu"
      },
      "source": [
        "* When observation in one class is higher than the observation in other classes then there exists a class imbalance. We can clearly see that there is a huge difference between the data set. Solving this issue we use resampling technique."
      ]
    },
    {
      "cell_type": "code",
      "metadata": {
        "colab": {
          "base_uri": "https://localhost:8080/",
          "height": 395
        },
        "id": "Qu6VWg4tjNAz",
        "outputId": "d568c416-bfcb-43ff-9654-ac6b05296463"
      },
      "source": [
        "randomsample=  RandomOverSampler()\n",
        "x_new,y_new=randomsample.fit_resample(x,y)\n",
        "\n",
        "from collections import Counter\n",
        "print('Original dataset shape {}'.format(Counter(y)))\n",
        "print('Resampled dataset shape {}'.format(Counter(y_new)))\n",
        "sns.countplot(y_new,palette='husl')"
      ],
      "execution_count": 25,
      "outputs": [
        {
          "output_type": "stream",
          "name": "stdout",
          "text": [
            "Original dataset shape Counter({0: 334399, 1: 46710})\n",
            "Resampled dataset shape Counter({1: 334399, 0: 334399})\n"
          ]
        },
        {
          "output_type": "stream",
          "name": "stderr",
          "text": [
            "/usr/local/lib/python3.7/dist-packages/seaborn/_decorators.py:43: FutureWarning: Pass the following variable as a keyword arg: x. From version 0.12, the only valid positional argument will be `data`, and passing other arguments without an explicit keyword will result in an error or misinterpretation.\n",
            "  FutureWarning\n"
          ]
        },
        {
          "output_type": "execute_result",
          "data": {
            "text/plain": [
              "<matplotlib.axes._subplots.AxesSubplot at 0x7fe831392450>"
            ]
          },
          "metadata": {},
          "execution_count": 25
        },
        {
          "output_type": "display_data",
          "data": {
            "image/png": "[encoded data removed]",
            "text/plain": [
              "<Figure size 432x288 with 1 Axes>"
            ]
          },
          "metadata": {}
        }
      ]
    },
    {
      "cell_type": "markdown",
      "metadata": {
        "id": "rHl9qTlwGwbw"
      },
      "source": [
        "**Spliting of data into train and test data**"
      ]
    },
    {
      "cell_type": "code",
      "metadata": {
        "colab": {
          "base_uri": "https://localhost:8080/"
        },
        "id": "2z4jI0K6ji1U",
        "outputId": "21cad326-6493-499a-c690-bebe0033b3fb"
      },
      "source": [
        "#dividing the dataset into training and testing\n",
        "xtrain,xtest,ytrain,ytest=train_test_split(x_new,y_new,test_size=.30,random_state=0)\n",
        "print(xtrain.shape,xtest.shape,ytrain.shape,ytest.shape)\n",
        "\n",
        "#feature scaling\n",
        "from sklearn.preprocessing import StandardScaler\n",
        "scaler=StandardScaler()\n",
        "xtrain=scaler.fit_transform(xtrain)\n",
        "xtest=scaler.transform(xtest)"
      ],
      "execution_count": 26,
      "outputs": [
        {
          "output_type": "stream",
          "name": "stdout",
          "text": [
            "(468158, 9) (200640, 9) (468158,) (200640,)\n"
          ]
        }
      ]
    },
    {
      "cell_type": "markdown",
      "metadata": {
        "id": "S3KtgLEoG5LS"
      },
      "source": [
        "#**4._Model Selection**"
      ]
    },
    {
      "cell_type": "markdown",
      "metadata": {
        "id": "SyDbXcgNHEHU"
      },
      "source": [
        "* Problem can be identified as Binary Classification (wheather customer opts for vehicle insurance or not)\n",
        "\n",
        "* Dataset has more than 300k records\n",
        "\n",
        "* cannot go with SVM Classifier as it takes more time to train as dataset increase\n",
        "\n",
        "* Idea is to start selection of models as:\n",
        "\n",
        " 1.Logistic Regression\n",
        "\n",
        " 2.Random Forest\n",
        "\n",
        " 3.XGBClassifier"
      ]
    },
    {
      "cell_type": "markdown",
      "metadata": {
        "id": "f3L5eBT4HQgJ"
      },
      "source": [
        "#**1.Logistic Regression**"
      ]
    },
    {
      "cell_type": "code",
      "metadata": {
        "id": "R6IsV-jCIs3L",
        "colab": {
          "base_uri": "https://localhost:8080/"
        },
        "outputId": "1092847b-c8bc-4360-8324-bb0e299fcf0d"
      },
      "source": [
        "model=LogisticRegression()\n",
        "model=model.fit(xtrain,ytrain)\n",
        "pred=model.predict(xtest)\n",
        "lr_probability =model.predict_proba(xtest)[:,1]\n",
        "\n",
        "\n",
        "acc_lr=accuracy_score(ytest,pred)\n",
        "recall_lr=recall_score(ytest,pred)\n",
        "precision_lr=precision_score(ytest,pred)\n",
        "f1score_lr=f1_score(ytest,pred)\n",
        "AUC_LR=roc_auc_score(pred,ytest)\n",
        "#print accuracy and Auc values of model\n",
        "print('Algorithm Name--->Logistic Regression')\n",
        "print(\"Accuracy : \", accuracy_score(ytest,pred))\n",
        "print(\"ROC_AUC Score:\",AUC_LR)\n",
        "print(f'classification_report \\n{classification_report(pred,ytest)}')"
      ],
      "execution_count": 61,
      "outputs": [
        {
          "output_type": "stream",
          "name": "stdout",
          "text": [
            "Algorithm Name--->Logistic Regression\n",
            "Accuracy :  0.783652312599681\n",
            "ROC_AUC Score: 0.8337214075655672\n",
            "classification_report \n",
            "              precision    recall  f1-score   support\n",
            "\n",
            "           0       0.59      0.96      0.73     61468\n",
            "           1       0.98      0.70      0.82    139172\n",
            "\n",
            "    accuracy                           0.78    200640\n",
            "   macro avg       0.78      0.83      0.78    200640\n",
            "weighted avg       0.86      0.78      0.79    200640\n",
            "\n"
          ]
        }
      ]
    },
    {
      "cell_type": "markdown",
      "metadata": {
        "id": "ssWVdZ6QHg6E"
      },
      "source": [
        "#**ROC Curve**"
      ]
    },
    {
      "cell_type": "code",
      "metadata": {
        "id": "vs_yD7dD3nGt",
        "colab": {
          "base_uri": "https://localhost:8080/",
          "height": 301
        },
        "outputId": "f713722f-9169-4177-c867-7bcf6f6d2ec5"
      },
      "source": [
        "from sklearn.metrics import roc_curve\n",
        "fpr, tpr, _ = roc_curve(ytest, lr_probability)\n",
        "\n",
        "plt.title('Linear Regression ROC curve')\n",
        "plt.xlabel('FPR (Precision)')\n",
        "plt.ylabel('TPR (Recall)')\n",
        "\n",
        "plt.plot(fpr,tpr)\n",
        "plt.plot((0,1), ls='dashed',color='black')\n",
        "plt.show()\n"
      ],
      "execution_count": 29,
      "outputs": [
        {
          "output_type": "display_data",
          "data": {
            "image/png": "[encoded data removed]",
            "text/plain": [
              "<Figure size 432x288 with 1 Axes>"
            ]
          },
          "metadata": {}
        }
      ]
    },
    {
      "cell_type": "code",
      "metadata": {
        "id": "92WtJjTt5PbP",
        "colab": {
          "base_uri": "https://localhost:8080/",
          "height": 320
        },
        "outputId": "6f0a7839-5ddf-4c7c-92bf-d14de9a07209"
      },
      "source": [
        "cm=confusion_matrix(ytest,pred)\n",
        "print(cm)\n",
        "sns.heatmap(cm,annot=True,cmap='BuPu')"
      ],
      "execution_count": 30,
      "outputs": [
        {
          "output_type": "stream",
          "name": "stdout",
          "text": [
            "[[59194 41134]\n",
            " [ 2274 98038]]\n"
          ]
        },
        {
          "output_type": "execute_result",
          "data": {
            "text/plain": [
              "<matplotlib.axes._subplots.AxesSubplot at 0x7fe82f9a1190>"
            ]
          },
          "metadata": {},
          "execution_count": 30
        },
        {
          "output_type": "display_data",
          "data": {
            "image/png": "[encoded data removed]",
            "text/plain": [
              "<Figure size 432x288 with 2 Axes>"
            ]
          },
          "metadata": {}
        }
      ]
    },
    {
      "cell_type": "markdown",
      "metadata": {
        "id": "lAbNP6tpHopb"
      },
      "source": [
        "#**2.RandomForest Classifier**"
      ]
    },
    {
      "cell_type": "code",
      "metadata": {
        "id": "SxUagTgS5eNv",
        "colab": {
          "base_uri": "https://localhost:8080/"
        },
        "outputId": "45b08019-c073-4c5f-8179-d8c142323292"
      },
      "source": [
        "from sklearn.ensemble import RandomForestClassifier\n",
        "\n",
        "randomforest = RandomForestClassifier()\n",
        "randomforest=randomforest.fit(xtrain, ytrain)\n",
        "y_pred = randomforest.predict(xtest)\n",
        "RF_probability = randomforest.predict_proba(xtest)[:,1]\n",
        "\n",
        "\n",
        "\n",
        "AUC_RF=roc_auc_score(y_pred,ytest)\n",
        "acc_rf=accuracy_score(ytest,y_pred)\n",
        "recall_rf=recall_score(ytest,y_pred)\n",
        "precision_rf=precision_score(ytest,y_pred)\n",
        "f1score_rf=f1_score(ytest,y_pred)\n",
        "print('Model Name--->Random Forest Classifier ')\n",
        "print(\"Accuracy : \",accuracy_score(y_pred,ytest))\n",
        "print(\"ROC_AUC Score:\",AUC_RF)\n",
        "print(f'classification_report \\n{classification_report(y_pred,ytest)}')"
      ],
      "execution_count": 57,
      "outputs": [
        {
          "output_type": "stream",
          "name": "stdout",
          "text": [
            "Algorithm Name--->Random Forest Classifier \n",
            "Accuracy :  0.9446072567783094\n",
            "ROC_AUC Score: 0.9494603941569737\n",
            "classification_report \n",
            "              precision    recall  f1-score   support\n",
            "\n",
            "           0       0.89      1.00      0.94     89900\n",
            "           1       1.00      0.90      0.95    110740\n",
            "\n",
            "    accuracy                           0.94    200640\n",
            "   macro avg       0.94      0.95      0.94    200640\n",
            "weighted avg       0.95      0.94      0.94    200640\n",
            "\n"
          ]
        }
      ]
    },
    {
      "cell_type": "code",
      "metadata": {
        "colab": {
          "base_uri": "https://localhost:8080/",
          "height": 301
        },
        "id": "tMv0bp5lk-YK",
        "outputId": "db61051d-d8f3-4b8c-a073-143ffcdb9928"
      },
      "source": [
        "from sklearn.metrics import roc_curve\n",
        "fpr, tpr, _ = roc_curve(ytest, RF_probability)\n",
        "\n",
        "plt.title('Linear Regression ROC curve')\n",
        "plt.xlabel('FPR (Precision)')\n",
        "plt.ylabel('TPR (Recall)')\n",
        "\n",
        "plt.plot(fpr,tpr)\n",
        "plt.plot((0,1), ls='dashed',color='black')\n",
        "plt.show()\n"
      ],
      "execution_count": 33,
      "outputs": [
        {
          "output_type": "display_data",
          "data": {
            "image/png": "[encoded data removed]",
            "text/plain": [
              "<Figure size 432x288 with 1 Axes>"
            ]
          },
          "metadata": {}
        }
      ]
    },
    {
      "cell_type": "code",
      "metadata": {
        "colab": {
          "base_uri": "https://localhost:8080/",
          "height": 320
        },
        "id": "2bjnvjnRlCuZ",
        "outputId": "2530e390-7e65-42b6-dc9b-e79cc2d764c5"
      },
      "source": [
        "cm=confusion_matrix(y_pred,ytest)\n",
        "print(cm)\n",
        "sns.heatmap(cm,annot=True,cmap='RdPu')"
      ],
      "execution_count": 34,
      "outputs": [
        {
          "output_type": "stream",
          "name": "stdout",
          "text": [
            "[[89536   348]\n",
            " [10792 99964]]\n"
          ]
        },
        {
          "output_type": "execute_result",
          "data": {
            "text/plain": [
              "<matplotlib.axes._subplots.AxesSubplot at 0x7fe82f89d990>"
            ]
          },
          "metadata": {},
          "execution_count": 34
        },
        {
          "output_type": "display_data",
          "data": {
            "image/png": "[encoded data removed]",
            "text/plain": [
              "<Figure size 432x288 with 2 Axes>"
            ]
          },
          "metadata": {}
        }
      ]
    },
    {
      "cell_type": "markdown",
      "metadata": {
        "id": "s8RKL5-1H7VK"
      },
      "source": [
        "#**3. XGBClassifier**"
      ]
    },
    {
      "cell_type": "code",
      "metadata": {
        "colab": {
          "base_uri": "https://localhost:8080/"
        },
        "id": "0mkUiaZBlJCS",
        "outputId": "f49e27fa-c32e-4443-fe45-4dd1fbae52d1"
      },
      "source": [
        "from xgboost import XGBClassifier\n",
        "xgb=XGBClassifier()\n",
        "XGB_fit=xgb.fit(xtrain, ytrain)\n",
        "y_predict = XGB_fit.predict(xtest)\n",
        "XGB_probability = XGB_fit.predict_proba(xtest)[:,1]\n",
        "\n",
        "acc_xgb=accuracy_score(ytest,y_predict)\n",
        "recall_xgb=recall_score(ytest,y_predict)\n",
        "precision_xgb=precision_score(ytest,y_predict)\n",
        "f1score_xgb=f1_score(ytest,y_predict)\n",
        "\n",
        "AUC_xgb=roc_auc_score(y_predict,ytest)\n",
        "\n",
        "print(f'Model Name--->XGBClassifier')\n",
        "print(\"Accuracy : \",accuracy_score(y_predict,ytest))\n",
        "print(\"ROC_AUC Score:\",AUC_xgb)\n",
        "print(f'classification_report \\n{classification_report(y_predict,ytest)}')"
      ],
      "execution_count": 58,
      "outputs": [
        {
          "output_type": "stream",
          "name": "stdout",
          "text": [
            "Model Name--->XGBClassifier\n",
            "Accuracy :  0.7978767942583732\n",
            "ROC_AUC Score: 0.8214599605503037\n",
            "classification_report \n",
            "              precision    recall  f1-score   support\n",
            "\n",
            "           0       0.66      0.91      0.77     73154\n",
            "           1       0.93      0.73      0.82    127486\n",
            "\n",
            "    accuracy                           0.80    200640\n",
            "   macro avg       0.80      0.82      0.79    200640\n",
            "weighted avg       0.83      0.80      0.80    200640\n",
            "\n"
          ]
        }
      ]
    },
    {
      "cell_type": "code",
      "metadata": {
        "colab": {
          "base_uri": "https://localhost:8080/",
          "height": 301
        },
        "id": "P4jNjv1pliAr",
        "outputId": "b43f5df4-2a24-4d59-a825-e7f606f33e61"
      },
      "source": [
        "from sklearn.metrics import roc_curve\n",
        "fpr, tpr, _ = roc_curve(ytest, XGB_probability)\n",
        "\n",
        "plt.title('XGBoost ROC curve')\n",
        "plt.xlabel('FPR (Precision)')\n",
        "plt.ylabel('TPR (Recall)')\n",
        "\n",
        "plt.plot(fpr,tpr)\n",
        "plt.plot((0,1), ls='dashed',color='black')\n",
        "plt.show()\n"
      ],
      "execution_count": 51,
      "outputs": [
        {
          "output_type": "display_data",
          "data": {
            "image/png": "[encoded data removed]",
            "text/plain": [
              "<Figure size 432x288 with 1 Axes>"
            ]
          },
          "metadata": {}
        }
      ]
    },
    {
      "cell_type": "code",
      "metadata": {
        "colab": {
          "base_uri": "https://localhost:8080/",
          "height": 320
        },
        "id": "bqgi8ogIlox9",
        "outputId": "89fdf90c-3e5f-49ca-f732-beeab5329806"
      },
      "source": [
        "#it helps to identify how many values are classified correctly\n",
        "cm=confusion_matrix(ytest,y_predict)\n",
        "print(cm)\n",
        "sns.heatmap(cm,annot=True,cmap='GnBu')"
      ],
      "execution_count": 38,
      "outputs": [
        {
          "output_type": "stream",
          "name": "stdout",
          "text": [
            "[[66464 33864]\n",
            " [ 6690 93622]]\n"
          ]
        },
        {
          "output_type": "execute_result",
          "data": {
            "text/plain": [
              "<matplotlib.axes._subplots.AxesSubplot at 0x7fe82f7f4650>"
            ]
          },
          "metadata": {},
          "execution_count": 38
        },
        {
          "output_type": "display_data",
          "data": {
            "image/png": "[encoded data removed]",
            "text/plain": [
              "<Figure size 432x288 with 2 Axes>"
            ]
          },
          "metadata": {}
        }
      ]
    },
    {
      "cell_type": "markdown",
      "metadata": {
        "id": "7pBElbLuIPNa"
      },
      "source": [
        "#**Comparing the model**"
      ]
    },
    {
      "cell_type": "code",
      "metadata": {
        "colab": {
          "base_uri": "https://localhost:8080/",
          "height": 143
        },
        "id": "zh_bGN6Hls65",
        "outputId": "5d597655-4e1a-447d-e3f6-37b0eff22789"
      },
      "source": [
        "ind=['Logistic regression','Randomforest','XGBClassifier']\n",
        "data={\"Accuracy\":[acc_lr,acc_rf,acc_xgb],\"Recall\":[recall_lr,recall_rf,recall_xgb],\"Precision\":[precision_lr,precision_rf,precision_xgb],\n",
        "    'f1_score':[f1score_lr,f1score_rf,f1score_xgb],\"ROC_AUC\":[AUC_LR,AUC_RF,AUC_xgb]}\n",
        "result=pd.DataFrame(data=data,index=ind)\n",
        "result"
      ],
      "execution_count": 53,
      "outputs": [
        {
          "output_type": "execute_result",
          "data": {
            "text/html": [
              "\n",
              "  <div id=\"df-62dfabbf-be97-490d-82c1-6a6805fc23c7\">\n",
              "    <div class=\"colab-df-container\">\n",
              "      <div>\n",
              "<style scoped>\n",
              "    .dataframe tbody tr th:only-of-type {\n",
              "        vertical-align: middle;\n",
              "    }\n",
              "\n",
              "    .dataframe tbody tr th {\n",
              "        vertical-align: top;\n",
              "    }\n",
              "\n",
              "    .dataframe thead th {\n",
              "        text-align: right;\n",
              "    }\n",
              "</style>\n",
              "<table border=\"1\" class=\"dataframe\">\n",
              "  <thead>\n",
              "    <tr style=\"text-align: right;\">\n",
              "      <th></th>\n",
              "      <th>Accuracy</th>\n",
              "      <th>Recall</th>\n",
              "      <th>Precision</th>\n",
              "      <th>f1_score</th>\n",
              "      <th>ROC_AUC</th>\n",
              "    </tr>\n",
              "  </thead>\n",
              "  <tbody>\n",
              "    <tr>\n",
              "      <th>Logistic regression</th>\n",
              "      <td>0.783652</td>\n",
              "      <td>0.977331</td>\n",
              "      <td>0.704438</td>\n",
              "      <td>0.818744</td>\n",
              "      <td>0.833721</td>\n",
              "    </tr>\n",
              "    <tr>\n",
              "      <th>Randomforest</th>\n",
              "      <td>0.944777</td>\n",
              "      <td>0.996471</td>\n",
              "      <td>0.903093</td>\n",
              "      <td>0.947487</td>\n",
              "      <td>0.949579</td>\n",
              "    </tr>\n",
              "    <tr>\n",
              "      <th>XGBClassifier</th>\n",
              "      <td>0.797877</td>\n",
              "      <td>0.933308</td>\n",
              "      <td>0.734371</td>\n",
              "      <td>0.821974</td>\n",
              "      <td>0.821460</td>\n",
              "    </tr>\n",
              "  </tbody>\n",
              "</table>\n",
              "</div>\n",
              "      <button class=\"colab-df-convert\" onclick=\"convertToInteractive('df-62dfabbf-be97-490d-82c1-6a6805fc23c7')\"\n",
              "              title=\"Convert this dataframe to an interactive table.\"\n",
              "              style=\"display:none;\">\n",
              "        \n",
              "  <svg xmlns=\"http://www.w3.org/2000/svg\" height=\"24px\"viewBox=\"0 0 24 24\"\n",
              "       width=\"24px\">\n",
              "    <path d=\"M0 0h24v24H0V0z\" fill=\"none\"/>\n",
              "    <path d=\"M18.56 5.44l.94 2.06.94-2.06 2.06-.94-2.06-.94-.94-2.06-.94 2.06-2.06.94zm-11 1L8.5 8.5l.94-2.06 2.06-.94-2.06-.94L8.5 2.5l-.94 2.06-2.06.94zm10 10l.94 2.06.94-2.06 2.06-.94-2.06-.94-.94-2.06-.94 2.06-2.06.94z\"/><path d=\"M17.41 7.96l-1.37-1.37c-.4-.4-.92-.59-1.43-.59-.52 0-1.04.2-1.43.59L10.3 9.45l-7.72 7.72c-.78.78-.78 2.05 0 2.83L4 21.41c.39.39.9.59 1.41.59.51 0 1.02-.2 1.41-.59l7.78-7.78 2.81-2.81c.8-.78.8-2.07 0-2.86zM5.41 20L4 18.59l7.72-7.72 1.47 1.35L5.41 20z\"/>\n",
              "  </svg>\n",
              "      </button>\n",
              "      \n",
              "  <style>\n",
              "    .colab-df-container {\n",
              "      display:flex;\n",
              "      flex-wrap:wrap;\n",
              "      gap: 12px;\n",
              "    }\n",
              "\n",
              "    .colab-df-convert {\n",
              "      background-color: #E8F0FE;\n",
              "      border: none;\n",
              "      border-radius: 50%;\n",
              "      cursor: pointer;\n",
              "      display: none;\n",
              "      fill: #1967D2;\n",
              "      height: 32px;\n",
              "      padding: 0 0 0 0;\n",
              "      width: 32px;\n",
              "    }\n",
              "\n",
              "    .colab-df-convert:hover {\n",
              "      background-color: #E2EBFA;\n",
              "      box-shadow: 0px 1px 2px rgba(60, 64, 67, 0.3), 0px 1px 3px 1px rgba(60, 64, 67, 0.15);\n",
              "      fill: #174EA6;\n",
              "    }\n",
              "\n",
              "    [theme=dark] .colab-df-convert {\n",
              "      background-color: #3B4455;\n",
              "      fill: #D2E3FC;\n",
              "    }\n",
              "\n",
              "    [theme=dark] .colab-df-convert:hover {\n",
              "      background-color: #434B5C;\n",
              "      box-shadow: 0px 1px 3px 1px rgba(0, 0, 0, 0.15);\n",
              "      filter: drop-shadow(0px 1px 2px rgba(0, 0, 0, 0.3));\n",
              "      fill: #FFFFFF;\n",
              "    }\n",
              "  </style>\n",
              "\n",
              "      <script>\n",
              "        const buttonEl =\n",
              "          document.querySelector('#df-62dfabbf-be97-490d-82c1-6a6805fc23c7 button.colab-df-convert');\n",
              "        buttonEl.style.display =\n",
              "          google.colab.kernel.accessAllowed ? 'block' : 'none';\n",
              "\n",
              "        async function convertToInteractive(key) {\n",
              "          const element = document.querySelector('#df-62dfabbf-be97-490d-82c1-6a6805fc23c7');\n",
              "          const dataTable =\n",
              "            await google.colab.kernel.invokeFunction('convertToInteractive',\n",
              "                                                     [key], {});\n",
              "          if (!dataTable) return;\n",
              "\n",
              "          const docLinkHtml = 'Like what you see? Visit the ' +\n",
              "            '<a target=\"_blank\" href=https://colab.research.google.com/notebooks/data_table.ipynb>data table notebook</a>'\n",
              "            + ' to learn more about interactive tables.';\n",
              "          element.innerHTML = '';\n",
              "          dataTable['output_type'] = 'display_data';\n",
              "          await google.colab.output.renderOutput(dataTable, element);\n",
              "          const docLink = document.createElement('div');\n",
              "          docLink.innerHTML = docLinkHtml;\n",
              "          element.appendChild(docLink);\n",
              "        }\n",
              "      </script>\n",
              "    </div>\n",
              "  </div>\n",
              "  "
            ],
            "text/plain": [
              "                     Accuracy    Recall  Precision  f1_score   ROC_AUC\n",
              "Logistic regression  0.783652  0.977331   0.704438  0.818744  0.833721\n",
              "Randomforest         0.944777  0.996471   0.903093  0.947487  0.949579\n",
              "XGBClassifier        0.797877  0.933308   0.734371  0.821974  0.821460"
            ]
          },
          "metadata": {},
          "execution_count": 53
        }
      ]
    },
    {
      "cell_type": "markdown",
      "metadata": {
        "id": "a03iPS1rIWzS"
      },
      "source": [
        "The ML model for the problem statement was created using python with the help of the dataset, and the ML model created with Random Forest and XGBClassifier models performed better than Logistics Regression model. Thus, for the given problem, the models created by Random Forest and XGBClassifier."
      ]
    },
    {
      "cell_type": "markdown",
      "metadata": {
        "id": "aNUw6-y5Ibi3"
      },
      "source": [
        "#**Conclusion**\n",
        "\n",
        "---\n",
        "\n",
        "\n",
        "Customers of age between 30 to 60 are more likely to buy insurance.\n",
        "Customers with Driving License have higher chance of buying Insurance.\n",
        "Customers with Vehicle_Damage are likely to buy insurance.\n",
        "The variable such as Age, Previously_insured,Annual_premium are more afecting the target variable.\n",
        "comparing ROC curve we can see that Random Forest model preform better. Because curves closer to the top-left corner, it indicate a better performance."
      ]
    }
  ]
}